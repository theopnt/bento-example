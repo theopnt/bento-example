{
 "cells": [
  {
   "cell_type": "markdown",
   "metadata": {
    "tags": []
   },
   "source": [
    "# Initiate\n",
    "We first initiate the environment. **Use python 3.9 kenrel if running from jupyterlab**"
   ]
  },
  {
   "cell_type": "code",
   "execution_count": 1,
   "metadata": {},
   "outputs": [
    {
     "data": {
      "text/plain": [
       "True"
      ]
     },
     "execution_count": 1,
     "metadata": {},
     "output_type": "execute_result"
    }
   ],
   "source": [
    "import os\n",
    "import bentoml\n",
    "import mlflow\n",
    "import darts \n",
    "#print(numpy.__version__)\n",
    "\n",
    "from dotenv import load_dotenv\n",
    "load_dotenv()\n"
   ]
  },
  {
   "cell_type": "code",
   "execution_count": 2,
   "metadata": {},
   "outputs": [],
   "source": [
    "#!pip3.9 install __\n",
    "#for future referance if needed to install something"
   ]
  },
  {
   "cell_type": "markdown",
   "metadata": {},
   "source": [
    "# Load model as bentos\n",
    "\n",
    "Then we load the model from minio as a bento. In the link to the model we always use the pyfunc model folder. The bento name needs to be changed if a different model needs to be loaded, otherwise the new model will be considered a newer version of the old one."
   ]
  },
  {
   "cell_type": "code",
   "execution_count": 3,
   "metadata": {},
   "outputs": [
    {
     "name": "stderr",
     "output_type": "stream",
     "text": [
      "converting 'UC7_households_apiu' to lowercase: 'uc7_households_apiu'\n",
      "2024/02/22 01:04:04 WARNING mlflow.pyfunc: Detected one or more mismatches between the model's dependencies and the current Python environment:\n",
      " - darts (current: 0.23.1, required: darts==0.22.0)\n",
      " - torch (current: 1.11.0, required: torch==1.11.0+cu102)\n",
      " - mlflow (current: 1.27.0, required: mlflow==1.25.1)\n",
      "To fix the mismatches, call `mlflow.pyfunc.get_model_dependencies(model_uri)` to fetch the model's environment and install dependencies using the resulting environment file.\n"
     ]
    },
    {
     "name": "stdout",
     "output_type": "stream",
     "text": [
      "Local path inside _load_pyfunc: /new_vol_300/marija/conda/multiusers/iccs/bentoml/models/uc7_households_apiu/3sj7flgrcwcuf6qw/mlflow_model/data/c3fb23784263495d8ec316a76f3123c6\n",
      "Local path altered for loading: /new_vol_300/marija/conda/multiusers/iccs/bentoml/models/uc7_households_apiu/3sj7flgrcwcuf6qw/mlflow_model/data/c3fb23784263495d8ec316a76f3123c6\n",
      "/new_vol_300/marija/conda/multiusers/iccs/bentoml/models/uc7_households_apiu/3sj7flgrcwcuf6qw/mlflow_model/data/c3fb23784263495d8ec316a76f3123c6\n",
      "/new_vol_300/marija/conda/multiusers/iccs/bentoml/models/uc7_households_apiu/3sj7flgrcwcuf6qw/mlflow_model/data/c3fb23784263495d8ec316a76f3123c6\n",
      "\n",
      "Loading local PKL model...\n"
     ]
    },
    {
     "name": "stderr",
     "output_type": "stream",
     "text": [
      "2024-02-22 01:04:18.684340: I tensorflow/core/platform/cpu_feature_guard.cc:193] This TensorFlow binary is optimized with oneAPI Deep Neural Network Library (oneDNN) to use the following CPU instructions in performance-critical operations:  AVX2 AVX512F AVX512_VNNI FMA\n",
      "To enable them in other operations, rebuild TensorFlow with the appropriate compiler flags.\n",
      "2024-02-22 01:04:20.646157: I tensorflow/core/util/util.cc:169] oneDNN custom operations are on. You may see slightly different numerical results due to floating-point round-off errors from different computation orders. To turn them off, set the environment variable `TF_ENABLE_ONEDNN_OPTS=0`.\n",
      "2024-02-22 01:04:21.346805: W tensorflow/stream_executor/platform/default/dso_loader.cc:64] Could not load dynamic library 'libcudart.so.11.0'; dlerror: libcudart.so.11.0: cannot open shared object file: No such file or directory\n",
      "2024-02-22 01:04:21.346830: I tensorflow/stream_executor/cuda/cudart_stub.cc:29] Ignore above cudart dlerror if you do not have a GPU set up on your machine.\n",
      "2024-02-22 01:04:21.600392: E tensorflow/stream_executor/cuda/cuda_blas.cc:2981] Unable to register cuBLAS factory: Attempting to register factory for plugin cuBLAS when one has already been registered\n",
      "2024-02-22 01:04:26.208114: W tensorflow/stream_executor/platform/default/dso_loader.cc:64] Could not load dynamic library 'libnvinfer.so.7'; dlerror: libnvinfer.so.7: cannot open shared object file: No such file or directory\n",
      "2024-02-22 01:04:26.208395: W tensorflow/stream_executor/platform/default/dso_loader.cc:64] Could not load dynamic library 'libnvinfer_plugin.so.7'; dlerror: libnvinfer_plugin.so.7: cannot open shared object file: No such file or directory\n",
      "2024-02-22 01:04:26.208410: W tensorflow/compiler/tf2tensorrt/utils/py_utils.cc:38] TF-TRT Warning: Cannot dlopen some TensorRT libraries. If you would like to use Nvidia GPU with TensorRT, please make sure the missing libraries mentioned above are installed properly.\n",
      "/opt/anaconda3/lib/python3.9/site-packages/pkg_resources/__init__.py:123: PkgResourcesDeprecationWarning: rts is an invalid version and will not be supported in a future release\n",
      "  warnings.warn(\n",
      "/opt/anaconda3/lib/python3.9/site-packages/sklearn/base.py:318: UserWarning: Trying to unpickle estimator MinMaxScaler from version 1.0.2 when using version 1.2.2. This might lead to breaking code or invalid results. Use at your own risk. For more info please refer to:\n",
      "https://scikit-learn.org/stable/model_persistence.html#security-maintainability-limitations\n",
      "  warnings.warn(\n"
     ]
    }
   ],
   "source": [
    "# comb model lgbm-pvlib\n",
    "model = bentoml.mlflow.import_model(\n",
    "    \"uc7_households_apiu\", \"s3://mlflow-bucket/40/c3fb23784263495d8ec316a76f3123c6/artifacts/pyfunc_model\", signatures={'predict': {'batchable': True}})\n",
    "bento_model = bentoml.mlflow.get(model.tag)\n",
    "test_model = bentoml.mlflow.load_model(\n",
    "    model.tag)"
   ]
  },
  {
   "cell_type": "markdown",
   "metadata": {},
   "source": [
    "Then we make sure that the model has been saved as a bento, and we get the tag of its latest version"
   ]
  },
  {
   "cell_type": "code",
   "execution_count": 4,
   "metadata": {},
   "outputs": [
    {
     "name": "stdout",
     "output_type": "stream",
     "text": [
      "Model(tag=\"uc7_households_apiu:3sj7flgrcwcuf6qw\")\n"
     ]
    }
   ],
   "source": [
    "print(bentoml.models.list(\"uc7_households_apiu\")[0])"
   ]
  },
  {
   "cell_type": "code",
   "execution_count": 5,
   "metadata": {},
   "outputs": [
    {
     "name": "stderr",
     "output_type": "stream",
     "text": [
      "2024/02/22 01:07:48 WARNING mlflow.pyfunc: Detected one or more mismatches between the model's dependencies and the current Python environment:\n",
      " - darts (current: 0.23.1, required: darts==0.22.0)\n",
      " - torch (current: 1.11.0, required: torch==1.11.0+cu102)\n",
      " - mlflow (current: 1.27.0, required: mlflow==1.25.1)\n",
      "To fix the mismatches, call `mlflow.pyfunc.get_model_dependencies(model_uri)` to fetch the model's environment and install dependencies using the resulting environment file.\n"
     ]
    },
    {
     "name": "stdout",
     "output_type": "stream",
     "text": [
      "Local path inside _load_pyfunc: /new_vol_300/marija/conda/multiusers/iccs/bentoml/models/uc7_companies_apiu/nfhdmywrc2cuf6qw/mlflow_model/data/d413d611281b429b8ecff77c365a3f55\n",
      "Local path altered for loading: /new_vol_300/marija/conda/multiusers/iccs/bentoml/models/uc7_companies_apiu/nfhdmywrc2cuf6qw/mlflow_model/data/d413d611281b429b8ecff77c365a3f55\n",
      "/new_vol_300/marija/conda/multiusers/iccs/bentoml/models/uc7_companies_apiu/nfhdmywrc2cuf6qw/mlflow_model/data/d413d611281b429b8ecff77c365a3f55\n",
      "/new_vol_300/marija/conda/multiusers/iccs/bentoml/models/uc7_companies_apiu/nfhdmywrc2cuf6qw/mlflow_model/data/d413d611281b429b8ecff77c365a3f55\n",
      "\n",
      "Loading local PKL model...\n"
     ]
    },
    {
     "name": "stderr",
     "output_type": "stream",
     "text": [
      "/opt/anaconda3/lib/python3.9/site-packages/sklearn/base.py:318: UserWarning: Trying to unpickle estimator MinMaxScaler from version 1.0.2 when using version 1.2.2. This might lead to breaking code or invalid results. Use at your own risk. For more info please refer to:\n",
      "https://scikit-learn.org/stable/model_persistence.html#security-maintainability-limitations\n",
      "  warnings.warn(\n"
     ]
    }
   ],
   "source": [
    "# comb model lgbm-pvlib\n",
    "model = bentoml.mlflow.import_model(\n",
    "    \"uc7_companies_apiu\", \"s3://mlflow-bucket/40/d413d611281b429b8ecff77c365a3f55/artifacts/pyfunc_model\", signatures={'predict': {'batchable': True}})\n",
    "bento_model = bentoml.mlflow.get(model.tag)\n",
    "test_model = bentoml.mlflow.load_model(\n",
    "    model.tag)"
   ]
  },
  {
   "cell_type": "code",
   "execution_count": 6,
   "metadata": {},
   "outputs": [
    {
     "name": "stdout",
     "output_type": "stream",
     "text": [
      "Model(tag=\"uc7_companies_apiu:nfhdmywrc2cuf6qw\")\n"
     ]
    }
   ],
   "source": [
    "print(bentoml.models.list(\"uc7_companies_apiu\")[0])"
   ]
  },
  {
   "cell_type": "code",
   "execution_count": 7,
   "metadata": {},
   "outputs": [
    {
     "name": "stderr",
     "output_type": "stream",
     "text": [
      "2024/02/22 01:11:13 WARNING mlflow.pyfunc: Detected one or more mismatches between the model's dependencies and the current Python environment:\n",
      " - darts (current: 0.23.1, required: darts==0.22.0)\n",
      " - torch (current: 1.11.0, required: torch==1.11.0+cu102)\n",
      " - mlflow (current: 1.27.0, required: mlflow==1.25.1)\n",
      "To fix the mismatches, call `mlflow.pyfunc.get_model_dependencies(model_uri)` to fetch the model's environment and install dependencies using the resulting environment file.\n"
     ]
    },
    {
     "name": "stdout",
     "output_type": "stream",
     "text": [
      "Local path inside _load_pyfunc: /new_vol_300/marija/conda/multiusers/iccs/bentoml/models/uc7_charging_stations/4mr7l6grc2cuf6qw/mlflow_model/data/721fe35ca487477e849121cbfc2c1d0d\n",
      "Local path altered for loading: /new_vol_300/marija/conda/multiusers/iccs/bentoml/models/uc7_charging_stations/4mr7l6grc2cuf6qw/mlflow_model/data/721fe35ca487477e849121cbfc2c1d0d\n",
      "/new_vol_300/marija/conda/multiusers/iccs/bentoml/models/uc7_charging_stations/4mr7l6grc2cuf6qw/mlflow_model/data/721fe35ca487477e849121cbfc2c1d0d\n",
      "/new_vol_300/marija/conda/multiusers/iccs/bentoml/models/uc7_charging_stations/4mr7l6grc2cuf6qw/mlflow_model/data/721fe35ca487477e849121cbfc2c1d0d\n",
      "\n",
      "Loading local PKL model...\n"
     ]
    },
    {
     "name": "stderr",
     "output_type": "stream",
     "text": [
      "/opt/anaconda3/lib/python3.9/site-packages/sklearn/base.py:318: UserWarning: Trying to unpickle estimator MinMaxScaler from version 1.0.2 when using version 1.2.2. This might lead to breaking code or invalid results. Use at your own risk. For more info please refer to:\n",
      "https://scikit-learn.org/stable/model_persistence.html#security-maintainability-limitations\n",
      "  warnings.warn(\n"
     ]
    }
   ],
   "source": [
    "# comb model lgbm-pvlib\n",
    "model = bentoml.mlflow.import_model(\n",
    "    \"uc7_charging_stations\", \"s3://mlflow-bucket/40/721fe35ca487477e849121cbfc2c1d0d/artifacts/pyfunc_model\", signatures={'predict': {'batchable': True}})\n",
    "bento_model = bentoml.mlflow.get(model.tag)\n",
    "test_model = bentoml.mlflow.load_model(\n",
    "    model.tag)"
   ]
  },
  {
   "cell_type": "code",
   "execution_count": 8,
   "metadata": {},
   "outputs": [
    {
     "name": "stdout",
     "output_type": "stream",
     "text": [
      "Model(tag=\"uc7_charging_stations:4mr7l6grc2cuf6qw\")\n"
     ]
    }
   ],
   "source": [
    "print(bentoml.models.list(\"uc7_charging_stations\")[0])"
   ]
  },
  {
   "cell_type": "code",
   "execution_count": 9,
   "metadata": {},
   "outputs": [
    {
     "name": "stderr",
     "output_type": "stream",
     "text": [
      "2024/02/22 01:16:01 WARNING mlflow.pyfunc: Detected one or more mismatches between the model's dependencies and the current Python environment:\n",
      " - darts (current: 0.23.1, required: darts==0.22.0)\n",
      " - torch (current: 1.11.0, required: torch==1.11.0+cu102)\n",
      " - mlflow (current: 1.27.0, required: mlflow==1.25.1)\n",
      "To fix the mismatches, call `mlflow.pyfunc.get_model_dependencies(model_uri)` to fetch the model's environment and install dependencies using the resulting environment file.\n"
     ]
    },
    {
     "name": "stdout",
     "output_type": "stream",
     "text": [
      "Local path inside _load_pyfunc: /new_vol_300/marija/conda/multiusers/iccs/bentoml/models/uc7_pool_apiu/r5iu4igrc6cuf6qw/mlflow_model/data/1649d79a23fb4010b895c1e6836b72d3\n",
      "Local path altered for loading: /new_vol_300/marija/conda/multiusers/iccs/bentoml/models/uc7_pool_apiu/r5iu4igrc6cuf6qw/mlflow_model/data/1649d79a23fb4010b895c1e6836b72d3\n",
      "/new_vol_300/marija/conda/multiusers/iccs/bentoml/models/uc7_pool_apiu/r5iu4igrc6cuf6qw/mlflow_model/data/1649d79a23fb4010b895c1e6836b72d3\n",
      "/new_vol_300/marija/conda/multiusers/iccs/bentoml/models/uc7_pool_apiu/r5iu4igrc6cuf6qw/mlflow_model/data/1649d79a23fb4010b895c1e6836b72d3\n",
      "\n",
      "Loading local PKL model...\n"
     ]
    },
    {
     "name": "stderr",
     "output_type": "stream",
     "text": [
      "/opt/anaconda3/lib/python3.9/site-packages/sklearn/base.py:318: UserWarning: Trying to unpickle estimator MinMaxScaler from version 1.0.2 when using version 1.2.2. This might lead to breaking code or invalid results. Use at your own risk. For more info please refer to:\n",
      "https://scikit-learn.org/stable/model_persistence.html#security-maintainability-limitations\n",
      "  warnings.warn(\n"
     ]
    }
   ],
   "source": [
    "# comb model lgbm-pvlib\n",
    "model = bentoml.mlflow.import_model(\n",
    "    \"uc7_pool_apiu\", \"s3://mlflow-bucket/40/1649d79a23fb4010b895c1e6836b72d3/artifacts/pyfunc_model\", signatures={'predict': {'batchable': True}})\n",
    "bento_model = bentoml.mlflow.get(model.tag)\n",
    "test_model = bentoml.mlflow.load_model(\n",
    "    model.tag)"
   ]
  },
  {
   "cell_type": "code",
   "execution_count": 10,
   "metadata": {},
   "outputs": [
    {
     "name": "stdout",
     "output_type": "stream",
     "text": [
      "Model(tag=\"uc7_pool_apiu:r5iu4igrc6cuf6qw\")\n"
     ]
    }
   ],
   "source": [
    "print(bentoml.models.list(\"uc7_pool_apiu\")[0])"
   ]
  },
  {
   "cell_type": "code",
   "execution_count": null,
   "metadata": {},
   "outputs": [],
   "source": [
    "# comb model lgbm-pvlib\n",
    "model = bentoml.mlflow.import_model(\n",
    "    \"uc6_w4_ac\", \"s3://mlflow-bucket/35/7d90535fed7b4cef8c3fcfba57cb7254/artifacts/pyfunc_model\", signatures={'predict': {'batchable': True}})\n",
    "bento_model = bentoml.mlflow.get(model.tag)\n",
    "test_model = bentoml.mlflow.load_model(\n",
    "    model.tag)"
   ]
  },
  {
   "cell_type": "code",
   "execution_count": 11,
   "metadata": {},
   "outputs": [
    {
     "name": "stdout",
     "output_type": "stream",
     "text": [
      "Model(tag=\"uc6_w4_ac:3aphqegkpk6dh6qw\")\n"
     ]
    }
   ],
   "source": [
    "print(bentoml.models.list(\"uc6_w4_ac\")[0])"
   ]
  },
  {
   "cell_type": "code",
   "execution_count": null,
   "metadata": {},
   "outputs": [],
   "source": [
    "# comb model lgbm-pvlib\n",
    "model = bentoml.mlflow.import_model(\n",
    "    \"uc6_w4_reac\", \"s3://mlflow-bucket/35/d7f9015c00904736851e8a7399ce4d51/artifacts/pyfunc_model\", signatures={'predict': {'batchable': True}})\n",
    "bento_model = bentoml.mlflow.get(model.tag)\n",
    "test_model = bentoml.mlflow.load_model(\n",
    "    model.tag)"
   ]
  },
  {
   "cell_type": "code",
   "execution_count": 12,
   "metadata": {},
   "outputs": [
    {
     "name": "stdout",
     "output_type": "stream",
     "text": [
      "Model(tag=\"uc6_w4_reac:fok7enwqx2pf76qw\")\n"
     ]
    }
   ],
   "source": [
    "print(bentoml.models.list(\"uc6_w4_reac\")[0])"
   ]
  },
  {
   "cell_type": "code",
   "execution_count": null,
   "metadata": {},
   "outputs": [],
   "source": [
    "model = bentoml.mlflow.import_model(\n",
    "    \"uc7_kmeans_euclidean_k14\", #bento model name \n",
    "    model_uri=\"models:/kmeans_k14/4\", #minio uri\n",
    "    signatures={'predict': {'batchable': True}})\n",
    "\n",
    "# bento_model = bentoml.mlflow.get(model.tag)\n",
    "pyfunc_model = bentoml.mlflow.load_model(model.tag)"
   ]
  },
  {
   "cell_type": "code",
   "execution_count": 13,
   "metadata": {},
   "outputs": [
    {
     "name": "stdout",
     "output_type": "stream",
     "text": [
      "Model(tag=\"uc7_kmeans_euclidean_k14:5yqwuff4kgpq36qw\")\n"
     ]
    }
   ],
   "source": [
    "print(bentoml.models.list(\"uc7_kmeans_euclidean_k14\")[0])"
   ]
  },
  {
   "cell_type": "code",
   "execution_count": null,
   "metadata": {},
   "outputs": [],
   "source": [
    "# comb model lgbm-pvlib\n",
    "model = bentoml.mlflow.import_model(\n",
    "    \"uc6_w6_reac\", \"s3://mlflow-bucket/35/4e86d069223d4cb5b74774b50022d2ea/artifacts/pyfunc_model\", signatures={'predict': {'batchable': True}})\n",
    "bento_model = bentoml.mlflow.get(model.tag)\n",
    "test_model = bentoml.mlflow.load_model(\n",
    "    model.tag)"
   ]
  },
  {
   "cell_type": "code",
   "execution_count": 14,
   "metadata": {},
   "outputs": [
    {
     "name": "stdout",
     "output_type": "stream",
     "text": [
      "Model(tag=\"uc6_w6_reac:r3paj2gqyg5hz6qw\")\n"
     ]
    }
   ],
   "source": [
    "print(bentoml.models.list(\"uc6_w6_reac\")[0])"
   ]
  },
  {
   "cell_type": "markdown",
   "metadata": {},
   "source": [
    "# Predict\n",
    "\n",
    "To make sure that this model is providing predictions normaly, we test it using the series that is uploaded to minio"
   ]
  },
  {
   "cell_type": "markdown",
   "metadata": {},
   "source": [
    "## LGBM"
   ]
  },
  {
   "cell_type": "code",
   "execution_count": 24,
   "metadata": {},
   "outputs": [
    {
     "ename": "AttributeError",
     "evalue": "time_col='Datetime' is not present.",
     "output_type": "error",
     "traceback": [
      "\u001b[0;31m---------------------------------------------------------------------------\u001b[0m",
      "\u001b[0;31mAttributeError\u001b[0m                            Traceback (most recent call last)",
      "Cell \u001b[0;32mIn[25], line 14\u001b[0m\n\u001b[1;32m      1\u001b[0m \u001b[38;5;66;03m# input example\u001b[39;00m\n\u001b[1;32m      2\u001b[0m input_example \u001b[38;5;241m=\u001b[39m {\n\u001b[1;32m      3\u001b[0m             \u001b[38;5;124m\"\u001b[39m\u001b[38;5;124mn\u001b[39m\u001b[38;5;124m\"\u001b[39m: \u001b[38;5;124m\"\u001b[39m\u001b[38;5;124m24\u001b[39m\u001b[38;5;124m\"\u001b[39m,\n\u001b[1;32m      4\u001b[0m             \u001b[38;5;124m\"\u001b[39m\u001b[38;5;124mseries_uri\u001b[39m\u001b[38;5;124m\"\u001b[39m: \u001b[38;5;124m\"\u001b[39m\u001b[38;5;124ms3://mlflow-bucket/40/b92fb3c675814fdebf08c23c7de9c001/artifacts/features/series.csv\u001b[39m\u001b[38;5;124m\"\u001b[39m,\n\u001b[0;32m   (...)\u001b[0m\n\u001b[1;32m     12\u001b[0m             \u001b[38;5;124m\"\u001b[39m\u001b[38;5;124mts_id_pred\u001b[39m\u001b[38;5;124m\"\u001b[39m: \u001b[38;5;124m\"\u001b[39m\u001b[38;5;124mBBB6030\u001b[39m\u001b[38;5;124m\"\u001b[39m,\n\u001b[1;32m     13\u001b[0m }\n\u001b[0;32m---> 14\u001b[0m predictions \u001b[38;5;241m=\u001b[39m \u001b[43mtest_model\u001b[49m\u001b[38;5;241;43m.\u001b[39;49m\u001b[43mpredict\u001b[49m\u001b[43m(\u001b[49m\u001b[43minput_example\u001b[49m\u001b[43m)\u001b[49m\n",
      "File \u001b[0;32m/opt/anaconda3/lib/python3.9/site-packages/mlflow/pyfunc/__init__.py:631\u001b[0m, in \u001b[0;36mPyFuncModel.predict\u001b[0;34m(self, data)\u001b[0m\n\u001b[1;32m    629\u001b[0m \u001b[38;5;28;01mif\u001b[39;00m input_schema \u001b[38;5;129;01mis\u001b[39;00m \u001b[38;5;129;01mnot\u001b[39;00m \u001b[38;5;28;01mNone\u001b[39;00m:\n\u001b[1;32m    630\u001b[0m     data \u001b[38;5;241m=\u001b[39m _enforce_schema(data, input_schema)\n\u001b[0;32m--> 631\u001b[0m \u001b[38;5;28;01mreturn\u001b[39;00m \u001b[38;5;28;43mself\u001b[39;49m\u001b[38;5;241;43m.\u001b[39;49m\u001b[43m_model_impl\u001b[49m\u001b[38;5;241;43m.\u001b[39;49m\u001b[43mpredict\u001b[49m\u001b[43m(\u001b[49m\u001b[43mdata\u001b[49m\u001b[43m)\u001b[49m\n",
      "File \u001b[0;32m~/bentoml/models/uc6_w4_ac/qxypbvwpkk74z6qw/mlflow_model/code/darts_flavor.py:36\u001b[0m, in \u001b[0;36m_MLflowPLDartsModelWrapper.predict\u001b[0;34m(self, model_input)\u001b[0m\n\u001b[1;32m     33\u001b[0m     batched \u001b[38;5;241m=\u001b[39m \u001b[38;5;28;01mFalse\u001b[39;00m\n\u001b[1;32m     35\u001b[0m \u001b[38;5;66;03m# Parse\u001b[39;00m\n\u001b[0;32m---> 36\u001b[0m model_input \u001b[38;5;241m=\u001b[39m \u001b[43mparse_uri_prediction_input\u001b[49m\u001b[43m(\u001b[49m\u001b[43mmodel_input\u001b[49m\u001b[43m,\u001b[49m\u001b[43m \u001b[49m\u001b[38;5;28;43mself\u001b[39;49m\u001b[38;5;241;43m.\u001b[39;49m\u001b[43mmodel\u001b[49m\u001b[43m,\u001b[49m\u001b[43m \u001b[49m\u001b[38;5;28;43mself\u001b[39;49m\u001b[38;5;241;43m.\u001b[39;49m\u001b[43mts_id_l\u001b[49m\u001b[43m)\u001b[49m\n\u001b[1;32m     38\u001b[0m \u001b[38;5;66;03m# Transform\u001b[39;00m\n\u001b[1;32m     39\u001b[0m \u001b[38;5;28;01mif\u001b[39;00m \u001b[38;5;28mself\u001b[39m\u001b[38;5;241m.\u001b[39mtransformer \u001b[38;5;129;01mis\u001b[39;00m \u001b[38;5;129;01mnot\u001b[39;00m \u001b[38;5;28;01mNone\u001b[39;00m:\n",
      "File \u001b[0;32m~/bentoml/models/uc6_w4_ac/qxypbvwpkk74z6qw/mlflow_model/code/utils.py:1244\u001b[0m, in \u001b[0;36mparse_uri_prediction_input\u001b[0;34m(model_input, model, ts_id_l)\u001b[0m\n\u001b[1;32m   1241\u001b[0m     predict_series_idx \u001b[38;5;241m=\u001b[39m \u001b[38;5;241m0\u001b[39m\n\u001b[1;32m   1243\u001b[0m \u001b[38;5;28;01mif\u001b[39;00m \u001b[38;5;124m\"\u001b[39m\u001b[38;5;124mhistory\u001b[39m\u001b[38;5;124m\"\u001b[39m \u001b[38;5;129;01mnot\u001b[39;00m \u001b[38;5;129;01min\u001b[39;00m model_input:\n\u001b[0;32m-> 1244\u001b[0m     history, id_l, ts_id_l_series \u001b[38;5;241m=\u001b[39m \u001b[43mload_local_csv_as_darts_timeseries\u001b[49m\u001b[43m(\u001b[49m\n\u001b[1;32m   1245\u001b[0m \u001b[43m        \u001b[49m\u001b[43mlocal_path\u001b[49m\u001b[38;5;241;43m=\u001b[39;49m\u001b[43mseries_uri\u001b[49m\u001b[43m,\u001b[49m\n\u001b[1;32m   1246\u001b[0m \u001b[43m        \u001b[49m\u001b[43mname\u001b[49m\u001b[38;5;241;43m=\u001b[39;49m\u001b[38;5;124;43m'\u001b[39;49m\u001b[38;5;124;43mseries\u001b[39;49m\u001b[38;5;124;43m'\u001b[39;49m\u001b[43m,\u001b[49m\n\u001b[1;32m   1247\u001b[0m \u001b[43m        \u001b[49m\u001b[43mtime_col\u001b[49m\u001b[38;5;241;43m=\u001b[39;49m\u001b[38;5;124;43m'\u001b[39;49m\u001b[38;5;124;43mDatetime\u001b[39;49m\u001b[38;5;124;43m'\u001b[39;49m\u001b[43m,\u001b[49m\n\u001b[1;32m   1248\u001b[0m \u001b[43m        \u001b[49m\u001b[43mlast_date\u001b[49m\u001b[38;5;241;43m=\u001b[39;49m\u001b[38;5;28;43;01mNone\u001b[39;49;00m\u001b[43m,\u001b[49m\n\u001b[1;32m   1249\u001b[0m \u001b[43m        \u001b[49m\u001b[43mmultiple\u001b[49m\u001b[38;5;241;43m=\u001b[39;49m\u001b[43mmultiple\u001b[49m\u001b[43m,\u001b[49m\n\u001b[1;32m   1250\u001b[0m \u001b[43m        \u001b[49m\u001b[43mresolution\u001b[49m\u001b[38;5;241;43m=\u001b[39;49m\u001b[43mmodel_input\u001b[49m\u001b[43m[\u001b[49m\u001b[38;5;124;43m\"\u001b[39;49m\u001b[38;5;124;43mresolution\u001b[39;49m\u001b[38;5;124;43m\"\u001b[39;49m\u001b[43m]\u001b[49m\u001b[43m \u001b[49m\u001b[43m)\u001b[49m\n\u001b[1;32m   1253\u001b[0m     \u001b[38;5;28;01mif\u001b[39;00m multiple:\n\u001b[1;32m   1254\u001b[0m          idx \u001b[38;5;241m=\u001b[39m [elem[\u001b[38;5;241m0\u001b[39m] \u001b[38;5;28;01mfor\u001b[39;00m elem \u001b[38;5;129;01min\u001b[39;00m ts_id_l_series]\u001b[38;5;241m.\u001b[39mindex(ts_id_pred)\n",
      "File \u001b[0;32m~/bentoml/models/uc6_w4_ac/qxypbvwpkk74z6qw/mlflow_model/code/utils.py:1178\u001b[0m, in \u001b[0;36mload_local_csv_as_darts_timeseries\u001b[0;34m(local_path, name, time_col, last_date, multiple, day_first, resolution)\u001b[0m\n\u001b[1;32m   1176\u001b[0m \u001b[38;5;28;01melse\u001b[39;00m:\n\u001b[1;32m   1177\u001b[0m     id_l, ts_id_l \u001b[38;5;241m=\u001b[39m [[]], [[]]\n\u001b[0;32m-> 1178\u001b[0m     covariates \u001b[38;5;241m=\u001b[39m \u001b[43mdarts\u001b[49m\u001b[38;5;241;43m.\u001b[39;49m\u001b[43mTimeSeries\u001b[49m\u001b[38;5;241;43m.\u001b[39;49m\u001b[43mfrom_csv\u001b[49m\u001b[43m(\u001b[49m\n\u001b[1;32m   1179\u001b[0m \u001b[43m        \u001b[49m\u001b[43mlocal_path\u001b[49m\u001b[43m,\u001b[49m\u001b[43m \u001b[49m\u001b[43mtime_col\u001b[49m\u001b[38;5;241;43m=\u001b[39;49m\u001b[43mtime_col\u001b[49m\u001b[43m,\u001b[49m\n\u001b[1;32m   1180\u001b[0m \u001b[43m        \u001b[49m\u001b[43mfill_missing_dates\u001b[49m\u001b[38;5;241;43m=\u001b[39;49m\u001b[38;5;28;43;01mTrue\u001b[39;49;00m\u001b[43m,\u001b[49m\n\u001b[1;32m   1181\u001b[0m \u001b[43m        \u001b[49m\u001b[43mfreq\u001b[49m\u001b[38;5;241;43m=\u001b[39;49m\u001b[38;5;28;43;01mNone\u001b[39;49;00m\u001b[43m)\u001b[49m\n\u001b[1;32m   1182\u001b[0m     covariates \u001b[38;5;241m=\u001b[39m covariates\u001b[38;5;241m.\u001b[39mastype(np\u001b[38;5;241m.\u001b[39mfloat32)\n\u001b[1;32m   1183\u001b[0m     \u001b[38;5;28;01mif\u001b[39;00m last_date \u001b[38;5;129;01mis\u001b[39;00m \u001b[38;5;129;01mnot\u001b[39;00m \u001b[38;5;28;01mNone\u001b[39;00m:\n",
      "File \u001b[0;32m/opt/anaconda3/lib/python3.9/site-packages/darts/timeseries.py:497\u001b[0m, in \u001b[0;36mTimeSeries.from_csv\u001b[0;34m(cls, filepath_or_buffer, time_col, value_cols, fill_missing_dates, freq, fillna_value, static_covariates, hierarchy, **kwargs)\u001b[0m\n\u001b[1;32m    429\u001b[0m \u001b[38;5;124;03m\"\"\"\u001b[39;00m\n\u001b[1;32m    430\u001b[0m \u001b[38;5;124;03mBuild a deterministic TimeSeries instance built from a single CSV file.\u001b[39;00m\n\u001b[1;32m    431\u001b[0m \u001b[38;5;124;03mOne column can be used to represent the time (if not present, the time index will be a RangeIndex)\u001b[39;00m\n\u001b[0;32m   (...)\u001b[0m\n\u001b[1;32m    493\u001b[0m \u001b[38;5;124;03m    A univariate or multivariate deterministic TimeSeries constructed from the inputs.\u001b[39;00m\n\u001b[1;32m    494\u001b[0m \u001b[38;5;124;03m\"\"\"\u001b[39;00m\n\u001b[1;32m    496\u001b[0m df \u001b[38;5;241m=\u001b[39m pd\u001b[38;5;241m.\u001b[39mread_csv(filepath_or_buffer\u001b[38;5;241m=\u001b[39mfilepath_or_buffer, \u001b[38;5;241m*\u001b[39m\u001b[38;5;241m*\u001b[39mkwargs)\n\u001b[0;32m--> 497\u001b[0m \u001b[38;5;28;01mreturn\u001b[39;00m \u001b[38;5;28;43mcls\u001b[39;49m\u001b[38;5;241;43m.\u001b[39;49m\u001b[43mfrom_dataframe\u001b[49m\u001b[43m(\u001b[49m\n\u001b[1;32m    498\u001b[0m \u001b[43m    \u001b[49m\u001b[43mdf\u001b[49m\u001b[38;5;241;43m=\u001b[39;49m\u001b[43mdf\u001b[49m\u001b[43m,\u001b[49m\n\u001b[1;32m    499\u001b[0m \u001b[43m    \u001b[49m\u001b[43mtime_col\u001b[49m\u001b[38;5;241;43m=\u001b[39;49m\u001b[43mtime_col\u001b[49m\u001b[43m,\u001b[49m\n\u001b[1;32m    500\u001b[0m \u001b[43m    \u001b[49m\u001b[43mvalue_cols\u001b[49m\u001b[38;5;241;43m=\u001b[39;49m\u001b[43mvalue_cols\u001b[49m\u001b[43m,\u001b[49m\n\u001b[1;32m    501\u001b[0m \u001b[43m    \u001b[49m\u001b[43mfill_missing_dates\u001b[49m\u001b[38;5;241;43m=\u001b[39;49m\u001b[43mfill_missing_dates\u001b[49m\u001b[43m,\u001b[49m\n\u001b[1;32m    502\u001b[0m \u001b[43m    \u001b[49m\u001b[43mfreq\u001b[49m\u001b[38;5;241;43m=\u001b[39;49m\u001b[43mfreq\u001b[49m\u001b[43m,\u001b[49m\n\u001b[1;32m    503\u001b[0m \u001b[43m    \u001b[49m\u001b[43mfillna_value\u001b[49m\u001b[38;5;241;43m=\u001b[39;49m\u001b[43mfillna_value\u001b[49m\u001b[43m,\u001b[49m\n\u001b[1;32m    504\u001b[0m \u001b[43m    \u001b[49m\u001b[43mstatic_covariates\u001b[49m\u001b[38;5;241;43m=\u001b[39;49m\u001b[43mstatic_covariates\u001b[49m\u001b[43m,\u001b[49m\n\u001b[1;32m    505\u001b[0m \u001b[43m    \u001b[49m\u001b[43mhierarchy\u001b[49m\u001b[38;5;241;43m=\u001b[39;49m\u001b[43mhierarchy\u001b[49m\u001b[43m,\u001b[49m\n\u001b[1;32m    506\u001b[0m \u001b[43m\u001b[49m\u001b[43m)\u001b[49m\n",
      "File \u001b[0;32m/opt/anaconda3/lib/python3.9/site-packages/darts/timeseries.py:648\u001b[0m, in \u001b[0;36mTimeSeries.from_dataframe\u001b[0;34m(cls, df, time_col, value_cols, fill_missing_dates, freq, fillna_value, static_covariates, hierarchy)\u001b[0m\n\u001b[1;32m    642\u001b[0m             raise_log(\n\u001b[1;32m    643\u001b[0m                 \u001b[38;5;167;01mAttributeError\u001b[39;00m(\n\u001b[1;32m    644\u001b[0m                     \u001b[38;5;124m\"\u001b[39m\u001b[38;5;124mInvalid type of `time_col`: it needs to be of either \u001b[39m\u001b[38;5;124m'\u001b[39m\u001b[38;5;124mstr\u001b[39m\u001b[38;5;124m'\u001b[39m\u001b[38;5;124m, \u001b[39m\u001b[38;5;124m'\u001b[39m\u001b[38;5;124mdatetime\u001b[39m\u001b[38;5;124m'\u001b[39m\u001b[38;5;124m or \u001b[39m\u001b[38;5;124m'\u001b[39m\u001b[38;5;124mint\u001b[39m\u001b[38;5;124m'\u001b[39m\u001b[38;5;124m dtype.\u001b[39m\u001b[38;5;124m\"\u001b[39m\n\u001b[1;32m    645\u001b[0m                 )\n\u001b[1;32m    646\u001b[0m             )\n\u001b[1;32m    647\u001b[0m     \u001b[38;5;28;01melse\u001b[39;00m:\n\u001b[0;32m--> 648\u001b[0m         \u001b[43mraise_log\u001b[49m\u001b[43m(\u001b[49m\u001b[38;5;167;43;01mAttributeError\u001b[39;49;00m\u001b[43m(\u001b[49m\u001b[38;5;124;43mf\u001b[39;49m\u001b[38;5;124;43m\"\u001b[39;49m\u001b[38;5;124;43mtime_col=\u001b[39;49m\u001b[38;5;124;43m'\u001b[39;49m\u001b[38;5;132;43;01m{\u001b[39;49;00m\u001b[43mtime_col\u001b[49m\u001b[38;5;132;43;01m}\u001b[39;49;00m\u001b[38;5;124;43m'\u001b[39;49m\u001b[38;5;124;43m is not present.\u001b[39;49m\u001b[38;5;124;43m\"\u001b[39;49m\u001b[43m)\u001b[49m\u001b[43m)\u001b[49m\n\u001b[1;32m    649\u001b[0m \u001b[38;5;28;01melse\u001b[39;00m:\n\u001b[1;32m    650\u001b[0m     raise_if_not(\n\u001b[1;32m    651\u001b[0m         \u001b[38;5;28misinstance\u001b[39m(df\u001b[38;5;241m.\u001b[39mindex, VALID_INDEX_TYPES),\n\u001b[1;32m    652\u001b[0m         \u001b[38;5;124m\"\u001b[39m\u001b[38;5;124mIf time_col is not specified, the DataFrame must be indexed either with \u001b[39m\u001b[38;5;124m\"\u001b[39m\n\u001b[1;32m    653\u001b[0m         \u001b[38;5;124m\"\u001b[39m\u001b[38;5;124ma DatetimeIndex, or with a RangeIndex.\u001b[39m\u001b[38;5;124m\"\u001b[39m,\n\u001b[1;32m    654\u001b[0m         logger,\n\u001b[1;32m    655\u001b[0m     )\n",
      "File \u001b[0;32m/opt/anaconda3/lib/python3.9/site-packages/darts/logging.py:129\u001b[0m, in \u001b[0;36mraise_log\u001b[0;34m(exception, logger)\u001b[0m\n\u001b[1;32m    126\u001b[0m message \u001b[38;5;241m=\u001b[39m \u001b[38;5;28mstr\u001b[39m(exception)\n\u001b[1;32m    127\u001b[0m logger\u001b[38;5;241m.\u001b[39merror(exception_type \u001b[38;5;241m+\u001b[39m \u001b[38;5;124m\"\u001b[39m\u001b[38;5;124m: \u001b[39m\u001b[38;5;124m\"\u001b[39m \u001b[38;5;241m+\u001b[39m message)\n\u001b[0;32m--> 129\u001b[0m \u001b[38;5;28;01mraise\u001b[39;00m exception\n",
      "\u001b[0;31mAttributeError\u001b[0m: time_col='Datetime' is not present."
     ]
    }
   ],
   "source": [
    "%%capture\n",
    "# input example\n",
    "input_example = {\n",
    "            \"n\": \"24\",\n",
    "            \"series_uri\": \"s3://mlflow-bucket/40/b92fb3c675814fdebf08c23c7de9c001/artifacts/features/series.csv\",\n",
    "            \"roll_size\": \"1\",\n",
    "            \"future_covariates_uri\": \"None\",\n",
    "            \"past_covariates_uri\": \"None\",\n",
    "            \"batch_size\": \"1\",\n",
    "            \"multiple\": \"Fal\",\n",
    "            \"weather_covariates\":[],\n",
    "            \"resolution\": \"60\",\n",
    "            \"ts_id_pred\": \"BBB6030\",\n",
    "}\n",
    "predictions = test_model.predict(input_example)"
   ]
  },
  {
   "cell_type": "code",
   "execution_count": 7,
   "metadata": {},
   "outputs": [
    {
     "data": {
      "text/html": [
       "<div>\n",
       "<style scoped>\n",
       "    .dataframe tbody tr th:only-of-type {\n",
       "        vertical-align: middle;\n",
       "    }\n",
       "\n",
       "    .dataframe tbody tr th {\n",
       "        vertical-align: top;\n",
       "    }\n",
       "\n",
       "    .dataframe thead th {\n",
       "        text-align: right;\n",
       "    }\n",
       "</style>\n",
       "<table border=\"1\" class=\"dataframe\">\n",
       "  <thead>\n",
       "    <tr style=\"text-align: right;\">\n",
       "      <th>component</th>\n",
       "      <th>Value</th>\n",
       "    </tr>\n",
       "    <tr>\n",
       "      <th>Datetime</th>\n",
       "      <th></th>\n",
       "    </tr>\n",
       "  </thead>\n",
       "  <tbody>\n",
       "    <tr>\n",
       "      <th>2023-12-28 00:00:00</th>\n",
       "      <td>3.931897</td>\n",
       "    </tr>\n",
       "    <tr>\n",
       "      <th>2023-12-28 01:00:00</th>\n",
       "      <td>3.949497</td>\n",
       "    </tr>\n",
       "    <tr>\n",
       "      <th>2023-12-28 02:00:00</th>\n",
       "      <td>3.980993</td>\n",
       "    </tr>\n",
       "    <tr>\n",
       "      <th>2023-12-28 03:00:00</th>\n",
       "      <td>4.072373</td>\n",
       "    </tr>\n",
       "    <tr>\n",
       "      <th>2023-12-28 04:00:00</th>\n",
       "      <td>4.106251</td>\n",
       "    </tr>\n",
       "    <tr>\n",
       "      <th>2023-12-28 05:00:00</th>\n",
       "      <td>4.013561</td>\n",
       "    </tr>\n",
       "    <tr>\n",
       "      <th>2023-12-28 06:00:00</th>\n",
       "      <td>3.740512</td>\n",
       "    </tr>\n",
       "    <tr>\n",
       "      <th>2023-12-28 07:00:00</th>\n",
       "      <td>3.039017</td>\n",
       "    </tr>\n",
       "    <tr>\n",
       "      <th>2023-12-28 08:00:00</th>\n",
       "      <td>1.821295</td>\n",
       "    </tr>\n",
       "    <tr>\n",
       "      <th>2023-12-28 09:00:00</th>\n",
       "      <td>2.239280</td>\n",
       "    </tr>\n",
       "    <tr>\n",
       "      <th>2023-12-28 10:00:00</th>\n",
       "      <td>11.416192</td>\n",
       "    </tr>\n",
       "    <tr>\n",
       "      <th>2023-12-28 11:00:00</th>\n",
       "      <td>9.824508</td>\n",
       "    </tr>\n",
       "    <tr>\n",
       "      <th>2023-12-28 12:00:00</th>\n",
       "      <td>5.306633</td>\n",
       "    </tr>\n",
       "    <tr>\n",
       "      <th>2023-12-28 13:00:00</th>\n",
       "      <td>3.551165</td>\n",
       "    </tr>\n",
       "    <tr>\n",
       "      <th>2023-12-28 14:00:00</th>\n",
       "      <td>3.061244</td>\n",
       "    </tr>\n",
       "    <tr>\n",
       "      <th>2023-12-28 15:00:00</th>\n",
       "      <td>2.761496</td>\n",
       "    </tr>\n",
       "    <tr>\n",
       "      <th>2023-12-28 16:00:00</th>\n",
       "      <td>3.836911</td>\n",
       "    </tr>\n",
       "    <tr>\n",
       "      <th>2023-12-28 17:00:00</th>\n",
       "      <td>4.542396</td>\n",
       "    </tr>\n",
       "    <tr>\n",
       "      <th>2023-12-28 18:00:00</th>\n",
       "      <td>5.030700</td>\n",
       "    </tr>\n",
       "    <tr>\n",
       "      <th>2023-12-28 19:00:00</th>\n",
       "      <td>5.061132</td>\n",
       "    </tr>\n",
       "    <tr>\n",
       "      <th>2023-12-28 20:00:00</th>\n",
       "      <td>5.014283</td>\n",
       "    </tr>\n",
       "    <tr>\n",
       "      <th>2023-12-28 21:00:00</th>\n",
       "      <td>4.772687</td>\n",
       "    </tr>\n",
       "    <tr>\n",
       "      <th>2023-12-28 22:00:00</th>\n",
       "      <td>4.645069</td>\n",
       "    </tr>\n",
       "    <tr>\n",
       "      <th>2023-12-28 23:00:00</th>\n",
       "      <td>4.695329</td>\n",
       "    </tr>\n",
       "  </tbody>\n",
       "</table>\n",
       "</div>"
      ],
      "text/plain": [
       "component                Value\n",
       "Datetime                      \n",
       "2023-12-28 00:00:00   3.931897\n",
       "2023-12-28 01:00:00   3.949497\n",
       "2023-12-28 02:00:00   3.980993\n",
       "2023-12-28 03:00:00   4.072373\n",
       "2023-12-28 04:00:00   4.106251\n",
       "2023-12-28 05:00:00   4.013561\n",
       "2023-12-28 06:00:00   3.740512\n",
       "2023-12-28 07:00:00   3.039017\n",
       "2023-12-28 08:00:00   1.821295\n",
       "2023-12-28 09:00:00   2.239280\n",
       "2023-12-28 10:00:00  11.416192\n",
       "2023-12-28 11:00:00   9.824508\n",
       "2023-12-28 12:00:00   5.306633\n",
       "2023-12-28 13:00:00   3.551165\n",
       "2023-12-28 14:00:00   3.061244\n",
       "2023-12-28 15:00:00   2.761496\n",
       "2023-12-28 16:00:00   3.836911\n",
       "2023-12-28 17:00:00   4.542396\n",
       "2023-12-28 18:00:00   5.030700\n",
       "2023-12-28 19:00:00   5.061132\n",
       "2023-12-28 20:00:00   5.014283\n",
       "2023-12-28 21:00:00   4.772687\n",
       "2023-12-28 22:00:00   4.645069\n",
       "2023-12-28 23:00:00   4.695329"
      ]
     },
     "execution_count": 7,
     "metadata": {},
     "output_type": "execute_result"
    }
   ],
   "source": [
    "predictions"
   ]
  }
 ],
 "metadata": {
  "kernelspec": {
   "display_name": "Python 3.9",
   "language": "python",
   "name": "py3.9"
  },
  "language_info": {
   "codemirror_mode": {
    "name": "ipython",
    "version": 3
   },
   "file_extension": ".py",
   "mimetype": "text/x-python",
   "name": "python",
   "nbconvert_exporter": "python",
   "pygments_lexer": "ipython3",
   "version": "3.9.16"
  }
 },
 "nbformat": 4,
 "nbformat_minor": 4
}
