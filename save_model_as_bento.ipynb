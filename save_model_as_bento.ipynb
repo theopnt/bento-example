{
 "cells": [
  {
   "cell_type": "markdown",
   "metadata": {
    "tags": []
   },
   "source": [
    "# Initiate\n",
    "We first initiate the environment. **Use python 3.9 kenrel if running from jupyterlab**"
   ]
  },
  {
   "cell_type": "code",
   "execution_count": 1,
   "metadata": {},
   "outputs": [
    {
     "data": {
      "text/plain": [
       "True"
      ]
     },
     "execution_count": 1,
     "metadata": {},
     "output_type": "execute_result"
    }
   ],
   "source": [
    "import os\n",
    "import bentoml\n",
    "import mlflow\n",
    "import darts \n",
    "#print(numpy.__version__)\n",
    "\n",
    "from dotenv import load_dotenv\n",
    "load_dotenv()\n"
   ]
  },
  {
   "cell_type": "markdown",
   "metadata": {},
   "source": [
    "# Load model as bentos\n",
    "\n",
    "Then we load the model from minio as a bento. In the link to the model we always use the pyfunc model folder. The bento name needs to be changed if a different model needs to be loaded, otherwise the new model will be considered a newer version of the old one."
   ]
  },
  {
   "cell_type": "code",
   "execution_count": 4,
   "metadata": {},
   "outputs": [
    {
     "name": "stderr",
     "output_type": "stream",
     "text": [
      "2024/01/18 00:33:03 WARNING mlflow.pyfunc: Detected one or more mismatches between the model's dependencies and the current Python environment:\n",
      " - torch (current: 2.1.2, required: torch==1.11.0+cu102)\n",
      "To fix the mismatches, call `mlflow.pyfunc.get_model_dependencies(model_uri)` to fetch the model's environment and install dependencies using the resulting environment file.\n"
     ]
    },
    {
     "name": "stdout",
     "output_type": "stream",
     "text": [
      "Local path inside _load_pyfunc: /home/theo/bentoml/models/uc7_companies_no_covs/l7ddjq5vrcr4eabl/mlflow_model/data/2850a79365524979819f69e9bbd55514\n",
      "Local path altered for loading: /home/theo/bentoml/models/uc7_companies_no_covs/l7ddjq5vrcr4eabl/mlflow_model/data/2850a79365524979819f69e9bbd55514\n",
      "/home/theo/bentoml/models/uc7_companies_no_covs/l7ddjq5vrcr4eabl/mlflow_model/data/2850a79365524979819f69e9bbd55514\n",
      "/home/theo/bentoml/models/uc7_companies_no_covs/l7ddjq5vrcr4eabl/mlflow_model/data/2850a79365524979819f69e9bbd55514\n",
      "\n",
      "Loading local PKL model...\n"
     ]
    },
    {
     "name": "stderr",
     "output_type": "stream",
     "text": [
      "/home/theo/anaconda3/envs/test2/lib/python3.9/site-packages/statsforecast/core.py:26: TqdmWarning: IProgress not found. Please update jupyter and ipywidgets. See https://ipywidgets.readthedocs.io/en/stable/user_install.html\n",
      "  from tqdm.autonotebook import tqdm\n",
      "/home/theo/anaconda3/envs/test2/lib/python3.9/site-packages/sklearn/base.py:348: InconsistentVersionWarning: Trying to unpickle estimator MinMaxScaler from version 1.0.2 when using version 1.3.2. This might lead to breaking code or invalid results. Use at your own risk. For more info please refer to:\n",
      "https://scikit-learn.org/stable/model_persistence.html#security-maintainability-limitations\n",
      "  warnings.warn(\n"
     ]
    }
   ],
   "source": [
    "model = bentoml.mlflow.import_model(\n",
    "    \"uc7_companies_no_covs\", #bento model name \n",
    "    \"s3://mlflow-bucket/40/2850a79365524979819f69e9bbd55514/artifacts/pyfunc_model\", #minio uri\n",
    "    signatures={'predict': {'batchable': True}})\n",
    "\n",
    "bento_model = bentoml.mlflow.get(model.tag)\n",
    "pyfunc_model: mlflow.pyfunc.PyFuncModel = bentoml.mlflow.load_model(\n",
    "    model.tag)"
   ]
  },
  {
   "cell_type": "markdown",
   "metadata": {},
   "source": [
    "Then we make sure that the model has been saved as a bento, and we get the tag of its latest version"
   ]
  },
  {
   "cell_type": "code",
   "execution_count": 2,
   "metadata": {},
   "outputs": [
    {
     "name": "stdout",
     "output_type": "stream",
     "text": [
      "Model(tag=\"uc7_companies_no_covs:hurwbr5vq6ituabl\")\n"
     ]
    }
   ],
   "source": [
    "print(bentoml.models.list(\"uc7_companies_no_covs\")[0])"
   ]
  },
  {
   "cell_type": "markdown",
   "metadata": {},
   "source": [
    "# Predict\n",
    "\n",
    "To make sure that this model is providing predictions normaly, we test it using the series that is uploaded to minio"
   ]
  },
  {
   "cell_type": "markdown",
   "metadata": {},
   "source": [
    "## LGBM"
   ]
  },
  {
   "cell_type": "code",
   "execution_count": 6,
   "metadata": {},
   "outputs": [],
   "source": [
    "%%capture\n",
    "# input example\n",
    "input_example = {\n",
    "            \"n\": \"24\",\n",
    "            \"series_uri\": \"s3://mlflow-bucket/40/b92fb3c675814fdebf08c23c7de9c001/artifacts/features/series.csv\",\n",
    "            \"roll_size\": \"1\",\n",
    "            \"future_covariates_uri\": \"None\",\n",
    "            \"past_covariates_uri\": \"None\",\n",
    "            \"batch_size\": \"1\",\n",
    "            \"multiple\": \"True\",\n",
    "            \"weather_covariates\":[],\n",
    "            \"resolution\": \"60\",\n",
    "            \"ts_id_pred\": \"BBB6030\",\n",
    "}\n",
    "predictions = pyfunc_model.predict(input_example)"
   ]
  },
  {
   "cell_type": "code",
   "execution_count": 7,
   "metadata": {},
   "outputs": [
    {
     "data": {
      "text/html": [
       "<div>\n",
       "<style scoped>\n",
       "    .dataframe tbody tr th:only-of-type {\n",
       "        vertical-align: middle;\n",
       "    }\n",
       "\n",
       "    .dataframe tbody tr th {\n",
       "        vertical-align: top;\n",
       "    }\n",
       "\n",
       "    .dataframe thead th {\n",
       "        text-align: right;\n",
       "    }\n",
       "</style>\n",
       "<table border=\"1\" class=\"dataframe\">\n",
       "  <thead>\n",
       "    <tr style=\"text-align: right;\">\n",
       "      <th>component</th>\n",
       "      <th>Value</th>\n",
       "    </tr>\n",
       "    <tr>\n",
       "      <th>Datetime</th>\n",
       "      <th></th>\n",
       "    </tr>\n",
       "  </thead>\n",
       "  <tbody>\n",
       "    <tr>\n",
       "      <th>2023-12-28 00:00:00</th>\n",
       "      <td>3.931897</td>\n",
       "    </tr>\n",
       "    <tr>\n",
       "      <th>2023-12-28 01:00:00</th>\n",
       "      <td>3.949497</td>\n",
       "    </tr>\n",
       "    <tr>\n",
       "      <th>2023-12-28 02:00:00</th>\n",
       "      <td>3.980993</td>\n",
       "    </tr>\n",
       "    <tr>\n",
       "      <th>2023-12-28 03:00:00</th>\n",
       "      <td>4.072373</td>\n",
       "    </tr>\n",
       "    <tr>\n",
       "      <th>2023-12-28 04:00:00</th>\n",
       "      <td>4.106251</td>\n",
       "    </tr>\n",
       "    <tr>\n",
       "      <th>2023-12-28 05:00:00</th>\n",
       "      <td>4.013561</td>\n",
       "    </tr>\n",
       "    <tr>\n",
       "      <th>2023-12-28 06:00:00</th>\n",
       "      <td>3.740512</td>\n",
       "    </tr>\n",
       "    <tr>\n",
       "      <th>2023-12-28 07:00:00</th>\n",
       "      <td>3.039017</td>\n",
       "    </tr>\n",
       "    <tr>\n",
       "      <th>2023-12-28 08:00:00</th>\n",
       "      <td>1.821295</td>\n",
       "    </tr>\n",
       "    <tr>\n",
       "      <th>2023-12-28 09:00:00</th>\n",
       "      <td>2.239280</td>\n",
       "    </tr>\n",
       "    <tr>\n",
       "      <th>2023-12-28 10:00:00</th>\n",
       "      <td>11.416192</td>\n",
       "    </tr>\n",
       "    <tr>\n",
       "      <th>2023-12-28 11:00:00</th>\n",
       "      <td>9.824508</td>\n",
       "    </tr>\n",
       "    <tr>\n",
       "      <th>2023-12-28 12:00:00</th>\n",
       "      <td>5.306633</td>\n",
       "    </tr>\n",
       "    <tr>\n",
       "      <th>2023-12-28 13:00:00</th>\n",
       "      <td>3.551165</td>\n",
       "    </tr>\n",
       "    <tr>\n",
       "      <th>2023-12-28 14:00:00</th>\n",
       "      <td>3.061244</td>\n",
       "    </tr>\n",
       "    <tr>\n",
       "      <th>2023-12-28 15:00:00</th>\n",
       "      <td>2.761496</td>\n",
       "    </tr>\n",
       "    <tr>\n",
       "      <th>2023-12-28 16:00:00</th>\n",
       "      <td>3.836911</td>\n",
       "    </tr>\n",
       "    <tr>\n",
       "      <th>2023-12-28 17:00:00</th>\n",
       "      <td>4.542396</td>\n",
       "    </tr>\n",
       "    <tr>\n",
       "      <th>2023-12-28 18:00:00</th>\n",
       "      <td>5.030700</td>\n",
       "    </tr>\n",
       "    <tr>\n",
       "      <th>2023-12-28 19:00:00</th>\n",
       "      <td>5.061132</td>\n",
       "    </tr>\n",
       "    <tr>\n",
       "      <th>2023-12-28 20:00:00</th>\n",
       "      <td>5.014283</td>\n",
       "    </tr>\n",
       "    <tr>\n",
       "      <th>2023-12-28 21:00:00</th>\n",
       "      <td>4.772687</td>\n",
       "    </tr>\n",
       "    <tr>\n",
       "      <th>2023-12-28 22:00:00</th>\n",
       "      <td>4.645069</td>\n",
       "    </tr>\n",
       "    <tr>\n",
       "      <th>2023-12-28 23:00:00</th>\n",
       "      <td>4.695329</td>\n",
       "    </tr>\n",
       "  </tbody>\n",
       "</table>\n",
       "</div>"
      ],
      "text/plain": [
       "component                Value\n",
       "Datetime                      \n",
       "2023-12-28 00:00:00   3.931897\n",
       "2023-12-28 01:00:00   3.949497\n",
       "2023-12-28 02:00:00   3.980993\n",
       "2023-12-28 03:00:00   4.072373\n",
       "2023-12-28 04:00:00   4.106251\n",
       "2023-12-28 05:00:00   4.013561\n",
       "2023-12-28 06:00:00   3.740512\n",
       "2023-12-28 07:00:00   3.039017\n",
       "2023-12-28 08:00:00   1.821295\n",
       "2023-12-28 09:00:00   2.239280\n",
       "2023-12-28 10:00:00  11.416192\n",
       "2023-12-28 11:00:00   9.824508\n",
       "2023-12-28 12:00:00   5.306633\n",
       "2023-12-28 13:00:00   3.551165\n",
       "2023-12-28 14:00:00   3.061244\n",
       "2023-12-28 15:00:00   2.761496\n",
       "2023-12-28 16:00:00   3.836911\n",
       "2023-12-28 17:00:00   4.542396\n",
       "2023-12-28 18:00:00   5.030700\n",
       "2023-12-28 19:00:00   5.061132\n",
       "2023-12-28 20:00:00   5.014283\n",
       "2023-12-28 21:00:00   4.772687\n",
       "2023-12-28 22:00:00   4.645069\n",
       "2023-12-28 23:00:00   4.695329"
      ]
     },
     "execution_count": 7,
     "metadata": {},
     "output_type": "execute_result"
    }
   ],
   "source": [
    "predictions"
   ]
  }
 ],
 "metadata": {
  "kernelspec": {
   "display_name": "test",
   "language": "python",
   "name": "python3"
  },
  "language_info": {
   "codemirror_mode": {
    "name": "ipython",
    "version": 3
   },
   "file_extension": ".py",
   "mimetype": "text/x-python",
   "name": "python",
   "nbconvert_exporter": "python",
   "pygments_lexer": "ipython3",
   "version": "3.9.0"
  }
 },
 "nbformat": 4,
 "nbformat_minor": 4
}
