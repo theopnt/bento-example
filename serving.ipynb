{
 "cells": [
  {
   "cell_type": "code",
   "execution_count": 7,
   "id": "3372fc7e-32d8-4d9d-bd22-90e9cc9eebef",
   "metadata": {},
   "outputs": [],
   "source": [
    "import bentoml"
   ]
  },
  {
   "cell_type": "markdown",
   "id": "ebf9ded5-9698-4d32-a9c4-ec0ca742509c",
   "metadata": {},
   "source": [
    "In order to test our solution, we first run the service without docker"
   ]
  },
  {
   "cell_type": "code",
   "execution_count": 13,
   "id": "d259a97b",
   "metadata": {},
   "outputs": [
    {
     "name": "stdout",
     "output_type": "stream",
     "text": [
      "/new_vol_300/marija/conda/multiusers/iccs/model_serving/bento-example\n"
     ]
    }
   ],
   "source": [
    "!pwd\n",
    "!/opt/anaconda3/bin/bentoml serve service.py:model_service --reload --host 0.0.0.0 --port 3060"
   ]
  },
  {
   "cell_type": "markdown",
   "id": "6f156631-3d99-4da1-a03f-9ad18c9202fa",
   "metadata": {},
   "source": [
    "Then we build the docker container of the model after we modify bentofile.yaml's service name"
   ]
  },
  {
   "cell_type": "code",
   "execution_count": 19,
   "id": "c4706669",
   "metadata": {},
   "outputs": [
    {
     "name": "stdout",
     "output_type": "stream",
     "text": [
      "Building BentoML service \"uc7_companies_no_covs:icw4j7furwxvh6qw\" from build context \"/new_vol_300/marija/conda/multiusers/iccs/model_serving/bento-example\"\n",
      "Packing model \"uc7_companies_no_covs:ddzciyfuqcafv6qw\"\n",
      "Locking PyPI package versions..\n",
      "WARNING:pip._internal.metadata.base:Ignoring invalid distribution - (/opt/anaconda3/lib/python3.9/site-packages)\n",
      "WARNING:pip._internal.metadata.base:Ignoring invalid distribution -arts (/opt/anaconda3/lib/python3.9/site-packages)\n",
      "\u001b[31mCould not find a version that matches torch==1.11.0,>=1.12.0,>=1.8.0 (from -r /tmp/tmpjxafxikvbentoml_bento_uc7_companies_no_covs/env/python/requirements.txt (line 2))\n",
      "Tried: 1.7.1, 1.8.0, 1.8.1, 1.9.0, 1.9.1, 1.10.0, 1.10.1, 1.10.2, 1.11.0, 1.12.0, 1.12.1, 1.13.0, 1.13.1, 2.0.0, 2.0.1, 2.1.0, 2.1.1, 2.1.2\n",
      "There are incompatible versions in the resolved dependencies:\n",
      "  torch==1.11.0 (from -r /tmp/tmpjxafxikvbentoml_bento_uc7_companies_no_covs/env/python/requirements.txt (line 2))\n",
      "  torch>=1.8.0 (from u8darts[torch]==0.22.0->-r /tmp/tmpjxafxikvbentoml_bento_uc7_companies_no_covs/env/python/requirements.txt (line 6))\n",
      "  torch>=1.12.0 (from pytorch-lightning==2.1.3->u8darts[torch]==0.22.0->-r /tmp/tmpjxafxikvbentoml_bento_uc7_companies_no_covs/env/python/requirements.txt (line 6))\u001b[0m\n",
      "Failed locking PyPI packages: Command '['/opt/anaconda3/bin/python', '-m', 'piptools', 'compile', '/tmp/tmpjxafxikvbentoml_bento_uc7_companies_no_covs/env/python/requirements.txt', '--quiet', '--allow-unsafe', '--no-header', '--output-file=/tmp/tmpjxafxikvbentoml_bento_uc7_companies_no_covs/env/python/requirements.lock.txt']' returned non-zero exit status 2.\n",
      "Falling back to using user-provided package requirement specifier, equivalent to `lock_packages=False`\n",
      "\n",
      "██████╗░███████╗███╗░░██╗████████╗░█████╗░███╗░░░███╗██╗░░░░░\n",
      "██╔══██╗██╔════╝████╗░██║╚══██╔══╝██╔══██╗████╗░████║██║░░░░░\n",
      "██████╦╝█████╗░░██╔██╗██║░░░██║░░░██║░░██║██╔████╔██║██║░░░░░\n",
      "██╔══██╗██╔══╝░░██║╚████║░░░██║░░░██║░░██║██║╚██╔╝██║██║░░░░░\n",
      "██████╦╝███████╗██║░╚███║░░░██║░░░╚█████╔╝██║░╚═╝░██║███████╗\n",
      "╚═════╝░╚══════╝╚═╝░░╚══╝░░░╚═╝░░░░╚════╝░╚═╝░░░░░╚═╝╚══════╝\n",
      "\n",
      "Successfully built Bento(tag=\"uc7_companies_no_covs:icw4j7furwxvh6qw\")\n"
     ]
    }
   ],
   "source": [
    "!/opt/anaconda3/bin/bentoml build"
   ]
  },
  {
   "cell_type": "markdown",
   "id": "cc3d84f2-e854-40bb-9e66-bc0eca6ae1bf",
   "metadata": {},
   "source": [
    "## We then run in the terminal:|"
   ]
  },
  {
   "cell_type": "code",
   "execution_count": 27,
   "id": "36698594-60c5-4e5d-b475-318f9516ff3a",
   "metadata": {},
   "outputs": [],
   "source": [
    "#sudo su\n",
    "#export BENTOML_HOME=/new_vol_300/marija/conda/multiusers/iccs/bentoml\n",
    "#bentoml containerize uc7_companies_no_covs:icw4j7furwxvh6qw\n",
    "#docker run -it --rm -p 3060:3000 uc7_companies_no_covs:icw4j7furwxvh6qw"
   ]
  }
 ],
 "metadata": {
  "kernelspec": {
   "display_name": "Python 3 (ipykernel)",
   "language": "python",
   "name": "python3"
  },
  "language_info": {
   "codemirror_mode": {
    "name": "ipython",
    "version": 3
   },
   "file_extension": ".py",
   "mimetype": "text/x-python",
   "name": "python",
   "nbconvert_exporter": "python",
   "pygments_lexer": "ipython3",
   "version": "3.9.16"
  }
 },
 "nbformat": 4,
 "nbformat_minor": 5
}
