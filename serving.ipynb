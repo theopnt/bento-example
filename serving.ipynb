{
 "cells": [
  {
   "cell_type": "code",
   "execution_count": 3,
   "id": "3372fc7e-32d8-4d9d-bd22-90e9cc9eebef",
   "metadata": {},
   "outputs": [],
   "source": [
    "import bentoml"
   ]
  },
  {
   "cell_type": "code",
   "execution_count": 1,
   "id": "d259a97b",
   "metadata": {},
   "outputs": [
    {
     "name": "stdout",
     "output_type": "stream",
     "text": [
      "/new_vol_300/opt/energy-forecasting-theo/model_registry/LightGBM_italy_serving\n"
     ]
    },
    {
     "name": "stdout",
     "output_type": "stream",
     "text": [
      "2023-09-18T13:12:17+0200 [ERROR] [cli] Could not bind 0.0.0.0:3042\n"
     ]
    }
   ],
   "source": [
    "!pwd\n",
    "!bentoml serve service.py:lgbm_uc6_w4_pos_service --reload --host 0.0.0.0 --port 3042"
   ]
  },
  {
   "cell_type": "markdown",
   "id": "5d7628f1",
   "metadata": {},
   "source": [
    "## Run it in the notebook Make_predictions.ipynb that is created in this same folder"
   ]
  },
  {
   "cell_type": "code",
   "execution_count": 3,
   "id": "c4706669",
   "metadata": {},
   "outputs": [
    {
     "name": "stdout",
     "output_type": "stream",
     "text": [
      "Building BentoML service \"lgbm_uc6_w6_pos_ac:f72fndswz2avgj6b\" from build context \"/new_vol_300/opt/energy-forecasting-theo/model_registry/lgbm_uc6_w6_pos_ac_serving\"\n",
      "Packing model \"lgbm_uc6_w6_pos_ac:h37g4ycwzoavgj6b\"\n",
      "Locking PyPI package versions..\n",
      "\u001b[33mWARNING: --strip-extras is becoming the default in version 8.0.0. To silence this warning, either use --strip-extras to opt into the new default or use --no-strip-extras to retain the existing behavior.\u001b[0m\n",
      "\n",
      "██████╗░███████╗███╗░░██╗████████╗░█████╗░███╗░░░███╗██╗░░░░░\n",
      "██╔══██╗██╔════╝████╗░██║╚══██╔══╝██╔══██╗████╗░████║██║░░░░░\n",
      "██████╦╝█████╗░░██╔██╗██║░░░██║░░░██║░░██║██╔████╔██║██║░░░░░\n",
      "██╔══██╗██╔══╝░░██║╚████║░░░██║░░░██║░░██║██║╚██╔╝██║██║░░░░░\n",
      "██████╦╝███████╗██║░╚███║░░░██║░░░╚█████╔╝██║░╚═╝░██║███████╗\n",
      "╚═════╝░╚══════╝╚═╝░░╚══╝░░░╚═╝░░░░╚════╝░╚═╝░░░░░╚═╝╚══════╝\n",
      "\n",
      "Successfully built Bento(tag=\"lgbm_uc6_w6_pos_ac:f72fndswz2avgj6b\")\n"
     ]
    }
   ],
   "source": [
    "!bentoml build"
   ]
  },
  {
   "cell_type": "markdown",
   "id": "cc3d84f2-e854-40bb-9e66-bc0eca6ae1bf",
   "metadata": {},
   "source": [
    "## We then run in the terminal:|"
   ]
  },
  {
   "cell_type": "code",
   "execution_count": 27,
   "id": "36698594-60c5-4e5d-b475-318f9516ff3a",
   "metadata": {},
   "outputs": [],
   "source": [
    "#sudo su\n",
    "#export BENTOML_HOME=/home/theopnt/bentoml\n",
    "#bentoml containerize lgbm_uc6_w6_pos_re:4qcmhtcwzsavgj6b\n",
    "#docker run -it --rm -p 3042:3000 lgbm_uc6_w6_pos_re:4qcmhtcwzsavgj6b"
   ]
  }
 ],
 "metadata": {
  "kernelspec": {
   "display_name": "Python 3 (ipykernel)",
   "language": "python",
   "name": "python3"
  },
  "language_info": {
   "codemirror_mode": {
    "name": "ipython",
    "version": 3
   },
   "file_extension": ".py",
   "mimetype": "text/x-python",
   "name": "python",
   "nbconvert_exporter": "python",
   "pygments_lexer": "ipython3",
   "version": "3.9.12"
  }
 },
 "nbformat": 4,
 "nbformat_minor": 5
}
