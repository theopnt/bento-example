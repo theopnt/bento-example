{
 "cells": [
  {
   "cell_type": "code",
   "execution_count": 6,
   "id": "3372fc7e-32d8-4d9d-bd22-90e9cc9eebef",
   "metadata": {},
   "outputs": [],
   "source": [
    "import bentoml"
   ]
  },
  {
   "cell_type": "code",
   "execution_count": 7,
   "id": "56cb2dbb-a063-4f71-a29d-16757cacc84d",
   "metadata": {},
   "outputs": [],
   "source": [
    "#!ls /usr/local/bin"
   ]
  },
  {
   "cell_type": "code",
   "execution_count": null,
   "id": "71525703-68ca-4f84-81c6-d14fafc8cace",
   "metadata": {},
   "outputs": [],
   "source": []
  },
  {
   "cell_type": "code",
   "execution_count": 10,
   "id": "d259a97b",
   "metadata": {},
   "outputs": [
    {
     "name": "stdout",
     "output_type": "stream",
     "text": [
      "/new_vol_300/marija/conda/multiusers/iccs/model_serving/bento-example/inergy-model-services\n"
     ]
    }
   ],
   "source": [
    "!pwd\n",
    "!/opt/anaconda3/bin/bentoml serve service.py:inergy_service --reload --host 0.0.0.0 --port 3090"
   ]
  },
  {
   "cell_type": "markdown",
   "id": "5d7628f1",
   "metadata": {},
   "source": [
    "## Run it in the notebook Make_predictions.ipynb that is created in this same folder"
   ]
  },
  {
   "cell_type": "code",
   "execution_count": 11,
   "id": "c4706669",
   "metadata": {},
   "outputs": [
    {
     "name": "stdout",
     "output_type": "stream",
     "text": [
      "Building BentoML service \"inergy_service:u6bzuvg3cwrbz6qw\" from build context \"/new_vol_300/marija/conda/multiusers/iccs/model_serving/bento-example/inergy-model-services\"\n",
      "Packing model \"uc6_w4_ac:qxypbvwpkk74z6qw\"\n",
      "Packing model \"uc6_w6_reac:r3paj2gqyg5hz6qw\"\n",
      "Packing model \"uc6_w4_reac:fok7enwqx2pf76qw\"\n",
      "Packing model \"uc7_charging_stations:4mr7l6grc2cuf6qw\"\n",
      "Packing model \"uc7_households_apiu:3sj7flgrcwcuf6qw\"\n",
      "Packing model \"lgbm_italy:b2xpt4wsbw7m76qw\"\n",
      "Packing model \"uc7_kmeans_euclidean_k14:5yqwuff4kgpq36qw\"\n",
      "Packing model \"uc7_pool_apiu:r5iu4igrc6cuf6qw\"\n",
      "Packing model \"uc7_companies_apiu:nfhdmywrc2cuf6qw\"\n",
      "Packing model \"nbeats_portugal:ehvyntgunwtot6qw\"\n",
      "Locking PyPI package versions..\n",
      "WARNING:pip._internal.metadata.base:Ignoring invalid distribution - (/opt/anaconda3/lib/python3.9/site-packages)\n",
      "WARNING:pip._internal.metadata.base:Ignoring invalid distribution -arts (/opt/anaconda3/lib/python3.9/site-packages)\n",
      "\u001b[31mCould not find a version that matches torch==1.11.0,>=1.13.0,>=1.8.0 (from -r /tmp/tmpkbazchkmbentoml_bento_inergy_service/env/python/requirements.txt (line 2))\n",
      "Tried: 1.7.1, 1.8.0, 1.8.1, 1.9.0, 1.9.1, 1.10.0, 1.10.1, 1.10.2, 1.11.0, 1.12.0, 1.12.1, 1.13.0, 1.13.1, 2.0.0, 2.0.1, 2.1.0, 2.1.1, 2.1.2, 2.2.0, 2.2.1\n",
      "There are incompatible versions in the resolved dependencies:\n",
      "  torch==1.11.0 (from -r /tmp/tmpkbazchkmbentoml_bento_inergy_service/env/python/requirements.txt (line 2))\n",
      "  torch>=1.13.0 (from pytorch-lightning==2.2.1->u8darts[torch]==0.22.0->-r /tmp/tmpkbazchkmbentoml_bento_inergy_service/env/python/requirements.txt (line 7))\n",
      "  torch>=1.8.0 (from u8darts[torch]==0.22.0->-r /tmp/tmpkbazchkmbentoml_bento_inergy_service/env/python/requirements.txt (line 7))\u001b[0m\n",
      "Failed locking PyPI packages: Command '['/opt/anaconda3/bin/python', '-m', 'piptools', 'compile', '/tmp/tmpkbazchkmbentoml_bento_inergy_service/env/python/requirements.txt', '--quiet', '--allow-unsafe', '--no-header', '--output-file=/tmp/tmpkbazchkmbentoml_bento_inergy_service/env/python/requirements.lock.txt']' returned non-zero exit status 2.\n",
      "Falling back to using user-provided package requirement specifier, equivalent to `lock_packages=False`\n",
      "\n",
      "██████╗░███████╗███╗░░██╗████████╗░█████╗░███╗░░░███╗██╗░░░░░\n",
      "██╔══██╗██╔════╝████╗░██║╚══██╔══╝██╔══██╗████╗░████║██║░░░░░\n",
      "██████╦╝█████╗░░██╔██╗██║░░░██║░░░██║░░██║██╔████╔██║██║░░░░░\n",
      "██╔══██╗██╔══╝░░██║╚████║░░░██║░░░██║░░██║██║╚██╔╝██║██║░░░░░\n",
      "██████╦╝███████╗██║░╚███║░░░██║░░░╚█████╔╝██║░╚═╝░██║███████╗\n",
      "╚═════╝░╚══════╝╚═╝░░╚══╝░░░╚═╝░░░░╚════╝░╚═╝░░░░░╚═╝╚══════╝\n",
      "\n",
      "Successfully built Bento(tag=\"inergy_service:u6bzuvg3cwrbz6qw\")\n"
     ]
    }
   ],
   "source": [
    "!/opt/anaconda3/bin/bentoml build"
   ]
  },
  {
   "cell_type": "markdown",
   "id": "cc3d84f2-e854-40bb-9e66-bc0eca6ae1bf",
   "metadata": {},
   "source": [
    "## We then run in the terminal:|"
   ]
  },
  {
   "cell_type": "code",
   "execution_count": 27,
   "id": "36698594-60c5-4e5d-b475-318f9516ff3a",
   "metadata": {},
   "outputs": [],
   "source": [
    "#sudo su\n",
    "#export BENTOML_HOME=/new_vol_300/marija/conda/multiusers/iccs/bentoml\n",
    "#bentoml containerize inergy_service:u6bzuvg3cwrbz6qw\n",
    "#docker run -it --rm -p 3090:3000 inergy_service:u6bzuvg3cwrbz6qw"
   ]
  }
 ],
 "metadata": {
  "kernelspec": {
   "display_name": "Python 3.9",
   "language": "python",
   "name": "py3.9"
  },
  "language_info": {
   "codemirror_mode": {
    "name": "ipython",
    "version": 3
   },
   "file_extension": ".py",
   "mimetype": "text/x-python",
   "name": "python",
   "nbconvert_exporter": "python",
   "pygments_lexer": "ipython3",
   "version": "3.9.16"
  }
 },
 "nbformat": 4,
 "nbformat_minor": 5
}
