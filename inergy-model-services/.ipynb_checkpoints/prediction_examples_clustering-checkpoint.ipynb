{
 "cells": [
  {
   "cell_type": "code",
   "execution_count": 13,
   "id": "f5621e70",
   "metadata": {},
   "outputs": [],
   "source": [
    "import requests\n",
    "\n",
    "\n",
    "result = requests.post(\"http://0.0.0.0:3061/predict\", \n",
    "                       data=\"\"\"[[0.10156165631128579,\n",
    "                                        0.11742054682623004,\n",
    "                                        0.10827884916424457,\n",
    "                                        0.1419559004187736,\n",
    "                                        0.09858174426175624,\n",
    "                                        0.09684657541777392,\n",
    "                                        0.13870600768986624,\n",
    "                                        0.12010868908302376,\n",
    "                                        0.3020166838702239,\n",
    "                                        0.3830996922519959,\n",
    "                                        0.3932901176677572,\n",
    "                                        0.3556295841912316,\n",
    "                                        0.29444366562163815,\n",
    "                                        0.2580498202282437,\n",
    "                                        0.09994290763839486,\n",
    "                                        0.14801024340453797,\n",
    "                                        0.22330362676695364,\n",
    "                                        0.175873181680463,\n",
    "                                        0.1611656053704833,\n",
    "                                        0.13773048842005026,\n",
    "                                        0.13952025841844082,\n",
    "                                        0.11160236751795001,\n",
    "                                        0.1135882823292413,\n",
    "                                        0.12800079086096514]]\"\"\", \n",
    "                             headers={\"content-type\": \"application/json\"},\n",
    ").text"
   ]
  },
  {
   "cell_type": "code",
   "execution_count": 14,
   "id": "f33661d1-f033-45bb-836a-df71a8899d6c",
   "metadata": {},
   "outputs": [
    {
     "data": {
      "text/plain": [
       "'[4]'"
      ]
     },
     "execution_count": 14,
     "metadata": {},
     "output_type": "execute_result"
    }
   ],
   "source": [
    "result"
   ]
  },
  {
   "cell_type": "code",
   "execution_count": null,
   "id": "418bb1d3-c00d-499b-9c79-40881a09ed27",
   "metadata": {},
   "outputs": [],
   "source": []
  }
 ],
 "metadata": {
  "kernelspec": {
   "display_name": "Python 3 (ipykernel)",
   "language": "python",
   "name": "python3"
  },
  "language_info": {
   "codemirror_mode": {
    "name": "ipython",
    "version": 3
   },
   "file_extension": ".py",
   "mimetype": "text/x-python",
   "name": "python",
   "nbconvert_exporter": "python",
   "pygments_lexer": "ipython3",
   "version": "3.9.16"
  }
 },
 "nbformat": 4,
 "nbformat_minor": 5
}
