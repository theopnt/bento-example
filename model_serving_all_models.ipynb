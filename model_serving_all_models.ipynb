{
 "cells": [
  {
   "cell_type": "markdown",
   "metadata": {
    "tags": []
   },
   "source": [
    "# Initiate\n",
    "Please remember to build the environment according to the conda.yml file that accompanies the pyfunc model"
   ]
  },
  {
   "cell_type": "code",
   "execution_count": 1,
   "metadata": {},
   "outputs": [
    {
     "name": "stdout",
     "output_type": "stream",
     "text": [
      "environ({'USER': 'theopnt', 'SSH_CLIENT': '147.102.131.16 55250 22', 'XDG_SESSION_TYPE': 'tty', 'SHLVL': '1', 'MOTD_SHOWN': 'pam', 'HOME': '/home/theopnt', 'OLDPWD': '/home/theopnt/.vscode-server/bin/abd2f3db4bdb28f9e95536dfa84d8479f1eb312d', 'DBUS_SESSION_BUS_ADDRESS': 'unix:path=/run/user/1009/bus', 'LOGNAME': 'theopnt', '_': '/new_vol_300/opt/miniconda3/envs/DeepTSF_env/bin/python', 'XDG_SESSION_CLASS': 'user', 'XDG_SESSION_ID': '694', 'PATH': '/new_vol_300/opt/miniconda3/envs/DeepTSF_env/bin:/home/theopnt/.vscode-server/bin/abd2f3db4bdb28f9e95536dfa84d8479f1eb312d/bin/remote-cli:/home/theopnt/.local/bin:/new_vol_300/opt/miniconda3/envs/DeepTSF_env/bin:/new_vol_300/opt/miniconda3/condabin:/usr/local/sbin:/usr/local/bin:/usr/sbin:/usr/bin:/sbin:/bin:/usr/games:/usr/local/games:/snap/bin:/home/theopnt/.fzf/bin', 'VSCODE_AGENT_FOLDER': '/home/theopnt/.vscode-server', 'XDG_RUNTIME_DIR': '/run/user/1009', 'LANG': 'C.UTF-8', 'SHELL': '/bin/bash', 'PWD': '/home/theopnt', 'SSH_CONNECTION': '147.102.131.16 55250 10.0.0.114 22', 'VSCODE_HANDLES_SIGPIPE': 'true', 'CONDA_EXE': '/new_vol_300/opt/miniconda3/bin/conda', '_CE_M': '', 'CONDA_PREFIX': '/new_vol_300/opt/miniconda3/envs/DeepTSF_env', 'MLFLOW_TRACKING_URI': 'https://131.154.97.48:8440/internal/', 'LS_COLORS': '', 'CONDA_PROMPT_MODIFIER': '(DeepTSF_env) ', 'LESSCLOSE': '/usr/bin/lesspipe %s %s', '_CE_CONDA': '', 'LESSOPEN': '| /usr/bin/lesspipe %s', 'CONDA_SHLVL': '2', 'MLFLOW_TRACKING_USERNAME': 'mlflow_admin', 'CONDA_PYTHON_EXE': '/new_vol_300/opt/miniconda3/bin/python', 'CONDA_DEFAULT_ENV': 'DeepTSF_env', 'XDG_DATA_DIRS': '/usr/local/share:/usr/share:/var/lib/snapd/desktop', 'MLFLOW_TRACKING_INSECURE_TLS': 'true', 'MLFLOW_TRACKING_PASSWORD': 'iDgQWpEsHrCh2Yuui77EYFXx1p6', 'VSCODE_AMD_ENTRYPOINT': 'vs/workbench/api/node/extensionHostProcess', 'VSCODE_HANDLES_UNCAUGHT_ERRORS': 'true', 'VSCODE_NLS_CONFIG': '{\"locale\":\"en\",\"osLocale\":\"en\",\"availableLanguages\":{}}', 'BROWSER': '/home/theopnt/.vscode-server/bin/abd2f3db4bdb28f9e95536dfa84d8479f1eb312d/bin/helpers/browser.sh', 'VSCODE_CWD': '/home/theopnt', 'ELECTRON_RUN_AS_NODE': '1', 'VSCODE_IPC_HOOK_CLI': '/run/user/1009/vscode-ipc-6cf3f84e-6017-4947-b0d9-4fed2acba3da.sock', 'VSCODE_L10N_BUNDLE_LOCATION': '', 'PYTHONUNBUFFERED': '1', 'CONDA_ROOT': '/new_vol_300/opt/miniconda3', 'PYTHONIOENCODING': 'utf-8', 'CONDA_PREFIX_1': '/new_vol_300/opt/miniconda3', 'PYDEVD_IPYTHON_COMPATIBLE_DEBUGGING': '1', 'PYDEVD_USE_FRAME_EVAL': 'NO', 'TERM': 'xterm-color', 'CLICOLOR': '1', 'FORCE_COLOR': '1', 'CLICOLOR_FORCE': '1', 'PAGER': 'cat', 'GIT_PAGER': 'cat', 'MPLBACKEND': 'module://matplotlib_inline.backend_inline'})\n"
     ]
    }
   ],
   "source": [
    "import os\n",
    "import bentoml\n",
    "import mlflow\n",
    "import darts \n",
    "#print(numpy.__version__)\n",
    "\n",
    "from dotenv import load_dotenv\n",
    "load_dotenv()\n",
    "print(os.environ)"
   ]
  },
  {
   "cell_type": "code",
   "execution_count": null,
   "metadata": {},
   "outputs": [],
   "source": [
    "# lgbm\n",
    "lgbm_model = bentoml.mlflow.import_model(\n",
    "    \"lgbm_uc6_w4_pos\", \"s3://mlflow-bucket/35/aae70c1e56e14f9b95b78d3f0031c576/artifacts/pyfunc_model\", signatures={'predict': {'batchable': True}})\n",
    "bento_model_lgbm = bentoml.mlflow.get(lgbm_model.tag)\n",
    "pyfunc_model_lgbm: mlflow.pyfunc.PyFuncModel = bentoml.mlflow.load_model(\n",
    "    lgbm_model.tag)"
   ]
  },
  {
   "cell_type": "markdown",
   "metadata": {},
   "source": [
    "# Load models as bentos"
   ]
  },
  {
   "cell_type": "code",
   "execution_count": 10,
   "metadata": {},
   "outputs": [
    {
     "name": "stderr",
     "output_type": "stream",
     "text": [
      "2023/04/07 13:13:07 WARNING mlflow.pyfunc: Detected one or more mismatches between the model's dependencies and the current Python environment:\n",
      " - cloudpickle (current: 2.0.0, required: cloudpickle==2.2.0)\n",
      " - scikit-learn (current: 1.2.2, required: scikit-learn==1.1.2)\n",
      "To fix the mismatches, call `mlflow.pyfunc.get_model_dependencies(model_uri)` to fetch the model's environment and install dependencies using the resulting environment file.\n",
      "/opt/anaconda3/lib/python3.9/site-packages/sklearn/base.py:318: UserWarning: Trying to unpickle estimator KMeans from version 1.1.2 when using version 1.2.2. This might lead to breaking code or invalid results. Use at your own risk. For more info please refer to:\n",
      "https://scikit-learn.org/stable/model_persistence.html#security-maintainability-limitations\n",
      "  warnings.warn(\n"
     ]
    },
    {
     "data": {
      "text/plain": [
       "[Model(tag=\"kmeans_example:dvz5yxgunwtot6qw\", path=\"/new_vol_300/marija/conda/multiusers/iccs/bentoml/models/kmeans_example/dvz5yxgunwtot6qw\"),\n",
       " Model(tag=\"kmeans_example:fsedumgvgwtot6qw\", path=\"/new_vol_300/marija/conda/multiusers/iccs/bentoml/models/kmeans_example/fsedumgvgwtot6qw\"),\n",
       " Model(tag=\"kmeans_example:umsu6qgsiw27p6qw\", path=\"/new_vol_300/marija/conda/multiusers/iccs/bentoml/models/kmeans_example/umsu6qgsiw27p6qw\")]"
      ]
     },
     "execution_count": 10,
     "metadata": {},
     "output_type": "execute_result"
    }
   ],
   "source": [
    "# kmeans\n",
    "kmeans_model = bentoml.mlflow.import_model(\n",
    "    \"kmeans_example\", \"kmeansEuclidean14\", signatures={'predict': {'batchable': True}})\n",
    "bento_model_kmeans = bentoml.mlflow.get(kmeans_model.tag)\n",
    "pyfunc_model_kmeans: mlflow.pyfunc.PyFuncModel = bentoml.mlflow.load_model(\n",
    "    kmeans_model.tag)\n",
    "bentoml.models.list(\"kmeans_example\")"
   ]
  },
  {
   "cell_type": "code",
   "execution_count": 5,
   "metadata": {},
   "outputs": [
    {
     "name": "stderr",
     "output_type": "stream",
     "text": [
      "2023/04/03 12:48:24 WARNING mlflow.pyfunc: Detected one or more mismatches between the model's dependencies and the current Python environment:\n",
      " - darts (current: 0.23.1, required: darts==0.22.0)\n",
      " - torch (current: 1.11.0, required: torch==1.11.0+cu102)\n",
      " - mlflow (current: 1.27.0, required: mlflow==1.25.1)\n",
      "To fix the mismatches, call `mlflow.pyfunc.get_model_dependencies(model_uri)` to fetch the model's environment and install dependencies using the resulting environment file.\n"
     ]
    },
    {
     "name": "stdout",
     "output_type": "stream",
     "text": [
      "Local path inside _load_pyfunc: /new_vol_300/marija/conda/multiusers/iccs/bentoml/models/lgbm_italy/b2xpt4wsbw7m76qw/mlflow_model/data/c532f7116185470bb95a48ecd8230588\n",
      "Local path altered for loading: /new_vol_300/marija/conda/multiusers/iccs/bentoml/models/lgbm_italy/b2xpt4wsbw7m76qw/mlflow_model/data/c532f7116185470bb95a48ecd8230588\n",
      "/new_vol_300/marija/conda/multiusers/iccs/bentoml/models/lgbm_italy/b2xpt4wsbw7m76qw/mlflow_model/data/c532f7116185470bb95a48ecd8230588\n",
      "/new_vol_300/marija/conda/multiusers/iccs/bentoml/models/lgbm_italy/b2xpt4wsbw7m76qw/mlflow_model/data/c532f7116185470bb95a48ecd8230588\n",
      "\n",
      "Loading local PKL model...\n"
     ]
    },
    {
     "name": "stderr",
     "output_type": "stream",
     "text": [
      "/opt/anaconda3/lib/python3.9/site-packages/sklearn/base.py:318: UserWarning: Trying to unpickle estimator MinMaxScaler from version 1.0.2 when using version 1.2.2. This might lead to breaking code or invalid results. Use at your own risk. For more info please refer to:\n",
      "https://scikit-learn.org/stable/model_persistence.html#security-maintainability-limitations\n",
      "  warnings.warn(\n"
     ]
    }
   ],
   "source": [
    "# lgbm\n",
    "lgbm_model = bentoml.mlflow.import_model(\n",
    "    \"lgbm_italy\", \"s3://mlflow-bucket/14/c532f7116185470bb95a48ecd8230588/artifacts/pyfunc_model\", signatures={'predict': {'batchable': True}})\n",
    "bento_model_lgbm = bentoml.mlflow.get(lgbm_model.tag)\n",
    "pyfunc_model_lgbm: mlflow.pyfunc.PyFuncModel = bentoml.mlflow.load_model(\n",
    "    lgbm_model.tag)"
   ]
  },
  {
   "cell_type": "code",
   "execution_count": 41,
   "metadata": {},
   "outputs": [
    {
     "name": "stderr",
     "output_type": "stream",
     "text": [
      "2023/04/05 12:51:39 WARNING mlflow.pyfunc: Detected one or more mismatches between the model's dependencies and the current Python environment:\n",
      " - darts (current: 0.23.1, required: darts==0.22.0)\n",
      " - torch (current: 1.11.0, required: torch==1.11.0+cu102)\n",
      " - mlflow (current: 1.27.0, required: mlflow==1.25.1)\n",
      "To fix the mismatches, call `mlflow.pyfunc.get_model_dependencies(model_uri)` to fetch the model's environment and install dependencies using the resulting environment file.\n"
     ]
    },
    {
     "name": "stdout",
     "output_type": "stream",
     "text": [
      "Local path inside _load_pyfunc: /new_vol_300/marija/conda/multiuser/engineering/bentoml/models/lgbm_italy/otuffxwsiggtn6qw/mlflow_model/data/c532f7116185470bb95a48ecd8230588\n",
      "Local path altered for loading: /new_vol_300/marija/conda/multiuser/engineering/bentoml/models/lgbm_italy/otuffxwsiggtn6qw/mlflow_model/data/c532f7116185470bb95a48ecd8230588\n",
      "/new_vol_300/marija/conda/multiuser/engineering/bentoml/models/lgbm_italy/otuffxwsiggtn6qw/mlflow_model/data/c532f7116185470bb95a48ecd8230588\n",
      "/new_vol_300/marija/conda/multiuser/engineering/bentoml/models/lgbm_italy/otuffxwsiggtn6qw/mlflow_model/data/c532f7116185470bb95a48ecd8230588\n",
      "\n",
      "Loading local PKL model...\n"
     ]
    },
    {
     "name": "stderr",
     "output_type": "stream",
     "text": [
      "/opt/anaconda3/lib/python3.9/site-packages/sklearn/base.py:318: UserWarning: Trying to unpickle estimator MinMaxScaler from version 1.0.2 when using version 1.2.2. This might lead to breaking code or invalid results. Use at your own risk. For more info please refer to:\n",
      "https://scikit-learn.org/stable/model_persistence.html#security-maintainability-limitations\n",
      "  warnings.warn(\n"
     ]
    }
   ],
   "source": [
    "pyfunc_model_lgbm: mlflow.pyfunc.PyFuncModel = bentoml.mlflow.load_model(\n",
    "    bentoml.models.list(\"lgbm_italy\")[0])"
   ]
  },
  {
   "cell_type": "code",
   "execution_count": 8,
   "metadata": {},
   "outputs": [
    {
     "name": "stdout",
     "output_type": "stream",
     "text": [
      "Model(tag=\"lgbm_italy:b2xpt4wsbw7m76qw\")\n"
     ]
    }
   ],
   "source": [
    "print(bentoml.models.list(\"lgbm_italy\")[0])"
   ]
  },
  {
   "cell_type": "code",
   "execution_count": 10,
   "metadata": {},
   "outputs": [
    {
     "name": "stderr",
     "output_type": "stream",
     "text": [
      "2023/04/05 11:35:10 WARNING mlflow.pyfunc: Detected one or more mismatches between the model's dependencies and the current Python environment:\n",
      " - darts (current: 0.23.1, required: darts==0.22.0)\n",
      " - torch (current: 1.11.0, required: torch==1.11.0+cu102)\n",
      " - mlflow (current: 1.27.0, required: mlflow==1.25.1)\n",
      "To fix the mismatches, call `mlflow.pyfunc.get_model_dependencies(model_uri)` to fetch the model's environment and install dependencies using the resulting environment file.\n"
     ]
    },
    {
     "name": "stdout",
     "output_type": "stream",
     "text": [
      "Local path inside _load_pyfunc: /new_vol_300/marija/conda/multiuser/engineering/bentoml/models/nbeats_portugal/e7q3rbwtswikl6qw/mlflow_model/data/2903cba103994c379e7c6da42d62465a\n",
      "Local path altered for loading: /new_vol_300/marija/conda/multiuser/engineering/bentoml/models/nbeats_portugal/e7q3rbwtswikl6qw/mlflow_model/data/2903cba103994c379e7c6da42d62465a\n",
      "/new_vol_300/marija/conda/multiuser/engineering/bentoml/models/nbeats_portugal/e7q3rbwtswikl6qw/mlflow_model/data/2903cba103994c379e7c6da42d62465a\n",
      "/new_vol_300/marija/conda/multiuser/engineering/bentoml/models/nbeats_portugal/e7q3rbwtswikl6qw/mlflow_model/data/2903cba103994c379e7c6da42d62465a\n",
      "\n",
      "Loading local PL model...\n",
      "Loading model from local directory:/new_vol_300/marija/conda/multiuser/engineering/bentoml/models/nbeats_portugal/e7q3rbwtswikl6qw/mlflow_model/data/2903cba103994c379e7c6da42d62465a\n"
     ]
    },
    {
     "name": "stderr",
     "output_type": "stream",
     "text": [
      "/opt/anaconda3/lib/python3.9/site-packages/sklearn/base.py:318: UserWarning: Trying to unpickle estimator MinMaxScaler from version 1.0.2 when using version 1.2.2. This might lead to breaking code or invalid results. Use at your own risk. For more info please refer to:\n",
      "https://scikit-learn.org/stable/model_persistence.html#security-maintainability-limitations\n",
      "  warnings.warn(\n"
     ]
    }
   ],
   "source": [
    "# nbeats\n",
    "nbeats_model = bentoml.mlflow.import_model(\"nbeats_portugal\", \"s3://mlflow-bucket/14/2903cba103994c379e7c6da42d62465a/artifacts/pyfunc_model\", signatures={'predict': {'batchable': True}})\n",
    "bento_model_nbeats = bentoml.mlflow.get(nbeats_model.tag)\n",
    "pyfunc_model_nbeats: mlflow.pyfunc.PyFuncModel = bentoml.mlflow.load_model(nbeats_model.tag)"
   ]
  },
  {
   "cell_type": "code",
   "execution_count": 31,
   "metadata": {},
   "outputs": [
    {
     "name": "stderr",
     "output_type": "stream",
     "text": [
      "2023/04/05 12:04:46 WARNING mlflow.pyfunc: Detected one or more mismatches between the model's dependencies and the current Python environment:\n",
      " - darts (current: 0.23.1, required: darts==0.22.0)\n",
      " - torch (current: 1.11.0, required: torch==1.11.0+cu102)\n",
      " - mlflow (current: 1.27.0, required: mlflow==1.25.1)\n",
      "To fix the mismatches, call `mlflow.pyfunc.get_model_dependencies(model_uri)` to fetch the model's environment and install dependencies using the resulting environment file.\n"
     ]
    },
    {
     "name": "stdout",
     "output_type": "stream",
     "text": [
      "Local path inside _load_pyfunc: /new_vol_300/marija/conda/multiuser/engineering/bentoml/models/nbeats_portugal/e7q3rbwtswikl6qw/mlflow_model/data/2903cba103994c379e7c6da42d62465a\n",
      "Local path altered for loading: /new_vol_300/marija/conda/multiuser/engineering/bentoml/models/nbeats_portugal/e7q3rbwtswikl6qw/mlflow_model/data/2903cba103994c379e7c6da42d62465a\n",
      "/new_vol_300/marija/conda/multiuser/engineering/bentoml/models/nbeats_portugal/e7q3rbwtswikl6qw/mlflow_model/data/2903cba103994c379e7c6da42d62465a\n",
      "/new_vol_300/marija/conda/multiuser/engineering/bentoml/models/nbeats_portugal/e7q3rbwtswikl6qw/mlflow_model/data/2903cba103994c379e7c6da42d62465a\n",
      "\n",
      "Loading local PL model...\n",
      "Loading model from local directory:/new_vol_300/marija/conda/multiuser/engineering/bentoml/models/nbeats_portugal/e7q3rbwtswikl6qw/mlflow_model/data/2903cba103994c379e7c6da42d62465a\n"
     ]
    },
    {
     "name": "stderr",
     "output_type": "stream",
     "text": [
      "/opt/anaconda3/lib/python3.9/site-packages/sklearn/base.py:318: UserWarning: Trying to unpickle estimator MinMaxScaler from version 1.0.2 when using version 1.2.2. This might lead to breaking code or invalid results. Use at your own risk. For more info please refer to:\n",
      "https://scikit-learn.org/stable/model_persistence.html#security-maintainability-limitations\n",
      "  warnings.warn(\n"
     ]
    }
   ],
   "source": [
    "pyfunc_model_nbeats: mlflow.pyfunc.PyFuncModel = bentoml.mlflow.load_model(bentoml.models.list(\"nbeats_portugal\")[0])"
   ]
  },
  {
   "cell_type": "code",
   "execution_count": 7,
   "metadata": {},
   "outputs": [
    {
     "name": "stdout",
     "output_type": "stream",
     "text": [
      "Model(tag=\"nbeats_portugal:ehvyntgunwtot6qw\")\n"
     ]
    }
   ],
   "source": [
    "print(bentoml.models.list(\"nbeats_portugal\")[0])"
   ]
  },
  {
   "cell_type": "markdown",
   "metadata": {},
   "source": [
    "# Predict"
   ]
  },
  {
   "cell_type": "code",
   "execution_count": 68,
   "metadata": {},
   "outputs": [
    {
     "name": "stdout",
     "output_type": "stream",
     "text": [
      "[5]\n"
     ]
    }
   ],
   "source": [
    "# input example\n",
    "predictions_kmeans = pyfunc_model_kmeans.predict(np.array([[0.10156165631128579,\n",
    "                                                            0.11742054682623004,\n",
    "                                                            0.10827884916424457,\n",
    "                                                            0.1419559004187736,\n",
    "                                                            0.09858174426175624,\n",
    "                                                            0.09684657541777392,\n",
    "                                                            0.13870600768986624,\n",
    "                                                            0.12010868908302376,\n",
    "                                                            0.3020166838702239,\n",
    "                                                            0.3830996922519959,\n",
    "                                                            0.3932901176677572,\n",
    "                                                            0.3556295841912316,\n",
    "                                                            0.29444366562163815,\n",
    "                                                            0.2580498202282437,\n",
    "                                                            0.09994290763839486,\n",
    "                                                            0.14801024340453797,\n",
    "                                                            0.22330362676695364,\n",
    "                                                            0.175873181680463,\n",
    "                                                            0.1611656053704833,\n",
    "                                                            0.13773048842005026,\n",
    "                                                            0.13952025841844082,\n",
    "                                                            0.11160236751795001,\n",
    "                                                            0.1135882823292413,\n",
    "                                                            0.12800079086096514]], dtype=float))\n",
    "print(predictions_kmeans)"
   ]
  },
  {
   "cell_type": "markdown",
   "metadata": {},
   "source": [
    "## Nbeats"
   ]
  },
  {
   "cell_type": "code",
   "execution_count": 48,
   "metadata": {},
   "outputs": [
    {
     "name": "stdout",
     "output_type": "stream",
     "text": [
      "\n",
      "Downloading remote file of recent time series history...\n",
      "\n",
      "Transforming...\n"
     ]
    },
    {
     "name": "stderr",
     "output_type": "stream",
     "text": [
      "/opt/anaconda3/lib/python3.9/site-packages/pytorch_lightning/trainer/connectors/data_connector.py:236: PossibleUserWarning: The dataloader, predict_dataloader 0, does not have many workers which may be a bottleneck. Consider increasing the value of the `num_workers` argument` (try 32 which is the number of cpus on this machine) in the `DataLoader` init to improve performance.\n",
      "  rank_zero_warn(\n"
     ]
    },
    {
     "data": {
      "application/vnd.jupyter.widget-view+json": {
       "model_id": "5d9f870b6e3e4a37998023baa25b40a0",
       "version_major": 2,
       "version_minor": 0
      },
      "text/plain": [
       "Predicting: 0it [00:00, ?it/s]"
      ]
     },
     "metadata": {},
     "output_type": "display_data"
    },
    {
     "name": "stdout",
     "output_type": "stream",
     "text": [
      "\n",
      "Inverse transforming...\n"
     ]
    }
   ],
   "source": [
    "# input example\n",
    "input_example = {\n",
    "    \"n\": \"240\",\n",
    "    \"series_uri\": \"http://131.154.97.48:9000/mlflow-bucket/14/2903cba103994c379e7c6da42d62465a/artifacts/features/series.csv\",\n",
    "    \"roll_size\": \"24\",\n",
    "    \"future_covariates_uri\": None,\n",
    "    \"past_covariates_uri\": None,\n",
    "    \"batch_size\": 256\n",
    "}\n",
    "predictions_nbeats = pyfunc_model_nbeats.predict(input_example)"
   ]
  },
  {
   "cell_type": "code",
   "execution_count": 49,
   "metadata": {},
   "outputs": [
    {
     "data": {
      "text/html": [
       "<div>\n",
       "<style scoped>\n",
       "    .dataframe tbody tr th:only-of-type {\n",
       "        vertical-align: middle;\n",
       "    }\n",
       "\n",
       "    .dataframe tbody tr th {\n",
       "        vertical-align: top;\n",
       "    }\n",
       "\n",
       "    .dataframe thead th {\n",
       "        text-align: right;\n",
       "    }\n",
       "</style>\n",
       "<table border=\"1\" class=\"dataframe\">\n",
       "  <thead>\n",
       "    <tr style=\"text-align: right;\">\n",
       "      <th>component</th>\n",
       "      <th>Load</th>\n",
       "    </tr>\n",
       "    <tr>\n",
       "      <th>Date</th>\n",
       "      <th></th>\n",
       "    </tr>\n",
       "  </thead>\n",
       "  <tbody>\n",
       "    <tr>\n",
       "      <th>2022-01-01 00:00:00</th>\n",
       "      <td>5251.494629</td>\n",
       "    </tr>\n",
       "    <tr>\n",
       "      <th>2022-01-01 01:00:00</th>\n",
       "      <td>4821.640137</td>\n",
       "    </tr>\n",
       "    <tr>\n",
       "      <th>2022-01-01 02:00:00</th>\n",
       "      <td>4641.684570</td>\n",
       "    </tr>\n",
       "    <tr>\n",
       "      <th>2022-01-01 03:00:00</th>\n",
       "      <td>4157.147949</td>\n",
       "    </tr>\n",
       "    <tr>\n",
       "      <th>2022-01-01 04:00:00</th>\n",
       "      <td>4253.052734</td>\n",
       "    </tr>\n",
       "    <tr>\n",
       "      <th>...</th>\n",
       "      <td>...</td>\n",
       "    </tr>\n",
       "    <tr>\n",
       "      <th>2022-01-10 19:00:00</th>\n",
       "      <td>6666.004395</td>\n",
       "    </tr>\n",
       "    <tr>\n",
       "      <th>2022-01-10 20:00:00</th>\n",
       "      <td>6990.258789</td>\n",
       "    </tr>\n",
       "    <tr>\n",
       "      <th>2022-01-10 21:00:00</th>\n",
       "      <td>6993.075195</td>\n",
       "    </tr>\n",
       "    <tr>\n",
       "      <th>2022-01-10 22:00:00</th>\n",
       "      <td>6779.800781</td>\n",
       "    </tr>\n",
       "    <tr>\n",
       "      <th>2022-01-10 23:00:00</th>\n",
       "      <td>6588.826172</td>\n",
       "    </tr>\n",
       "  </tbody>\n",
       "</table>\n",
       "<p>240 rows × 1 columns</p>\n",
       "</div>"
      ],
      "text/plain": [
       "component                   Load\n",
       "Date                            \n",
       "2022-01-01 00:00:00  5251.494629\n",
       "2022-01-01 01:00:00  4821.640137\n",
       "2022-01-01 02:00:00  4641.684570\n",
       "2022-01-01 03:00:00  4157.147949\n",
       "2022-01-01 04:00:00  4253.052734\n",
       "...                          ...\n",
       "2022-01-10 19:00:00  6666.004395\n",
       "2022-01-10 20:00:00  6990.258789\n",
       "2022-01-10 21:00:00  6993.075195\n",
       "2022-01-10 22:00:00  6779.800781\n",
       "2022-01-10 23:00:00  6588.826172\n",
       "\n",
       "[240 rows x 1 columns]"
      ]
     },
     "execution_count": 49,
     "metadata": {},
     "output_type": "execute_result"
    }
   ],
   "source": [
    "predictions_nbeats"
   ]
  },
  {
   "cell_type": "markdown",
   "metadata": {},
   "source": [
    "## LGBM"
   ]
  },
  {
   "cell_type": "code",
   "execution_count": 58,
   "metadata": {},
   "outputs": [],
   "source": [
    "%%capture\n",
    "# input example\n",
    "input_example = {\n",
    "    \"n\": 240,\n",
    "    \"series_uri\": \"http://131.154.97.48:9000/mlflow-bucket/14/c532f7116185470bb95a48ecd8230588/artifacts/features/series.csv\",\n",
    "    \"roll_size\": \"24\",\n",
    "    \"future_covariates_uri\": \"None\",\n",
    "    \"past_covariates_uri\": None,\n",
    "    \"batch_size\": 1\n",
    "}\n",
    "predictions_lgbm = pyfunc_model_lgbm.predict(input_example)"
   ]
  },
  {
   "cell_type": "code",
   "execution_count": 59,
   "metadata": {},
   "outputs": [
    {
     "data": {
      "text/html": [
       "<div>\n",
       "<style scoped>\n",
       "    .dataframe tbody tr th:only-of-type {\n",
       "        vertical-align: middle;\n",
       "    }\n",
       "\n",
       "    .dataframe tbody tr th {\n",
       "        vertical-align: top;\n",
       "    }\n",
       "\n",
       "    .dataframe thead th {\n",
       "        text-align: right;\n",
       "    }\n",
       "</style>\n",
       "<table border=\"1\" class=\"dataframe\">\n",
       "  <thead>\n",
       "    <tr style=\"text-align: right;\">\n",
       "      <th>component</th>\n",
       "      <th>Load</th>\n",
       "    </tr>\n",
       "    <tr>\n",
       "      <th>Date</th>\n",
       "      <th></th>\n",
       "    </tr>\n",
       "  </thead>\n",
       "  <tbody>\n",
       "    <tr>\n",
       "      <th>2022-01-01 00:00:00</th>\n",
       "      <td>22837.455155</td>\n",
       "    </tr>\n",
       "    <tr>\n",
       "      <th>2022-01-01 01:00:00</th>\n",
       "      <td>20974.847321</td>\n",
       "    </tr>\n",
       "    <tr>\n",
       "      <th>2022-01-01 02:00:00</th>\n",
       "      <td>19954.777975</td>\n",
       "    </tr>\n",
       "    <tr>\n",
       "      <th>2022-01-01 03:00:00</th>\n",
       "      <td>19311.769051</td>\n",
       "    </tr>\n",
       "    <tr>\n",
       "      <th>2022-01-01 04:00:00</th>\n",
       "      <td>19149.853036</td>\n",
       "    </tr>\n",
       "    <tr>\n",
       "      <th>...</th>\n",
       "      <td>...</td>\n",
       "    </tr>\n",
       "    <tr>\n",
       "      <th>2022-01-10 19:00:00</th>\n",
       "      <td>37309.761412</td>\n",
       "    </tr>\n",
       "    <tr>\n",
       "      <th>2022-01-10 20:00:00</th>\n",
       "      <td>36854.490113</td>\n",
       "    </tr>\n",
       "    <tr>\n",
       "      <th>2022-01-10 21:00:00</th>\n",
       "      <td>34714.911240</td>\n",
       "    </tr>\n",
       "    <tr>\n",
       "      <th>2022-01-10 22:00:00</th>\n",
       "      <td>31765.715325</td>\n",
       "    </tr>\n",
       "    <tr>\n",
       "      <th>2022-01-10 23:00:00</th>\n",
       "      <td>28752.260784</td>\n",
       "    </tr>\n",
       "  </tbody>\n",
       "</table>\n",
       "<p>240 rows × 1 columns</p>\n",
       "</div>"
      ],
      "text/plain": [
       "component                    Load\n",
       "Date                             \n",
       "2022-01-01 00:00:00  22837.455155\n",
       "2022-01-01 01:00:00  20974.847321\n",
       "2022-01-01 02:00:00  19954.777975\n",
       "2022-01-01 03:00:00  19311.769051\n",
       "2022-01-01 04:00:00  19149.853036\n",
       "...                           ...\n",
       "2022-01-10 19:00:00  37309.761412\n",
       "2022-01-10 20:00:00  36854.490113\n",
       "2022-01-10 21:00:00  34714.911240\n",
       "2022-01-10 22:00:00  31765.715325\n",
       "2022-01-10 23:00:00  28752.260784\n",
       "\n",
       "[240 rows x 1 columns]"
      ]
     },
     "execution_count": 59,
     "metadata": {},
     "output_type": "execute_result"
    }
   ],
   "source": [
    "predictions_lgbm"
   ]
  },
  {
   "cell_type": "code",
   "execution_count": null,
   "metadata": {},
   "outputs": [],
   "source": []
  }
 ],
 "metadata": {
  "kernelspec": {
   "display_name": "Python 3 (ipykernel)",
   "language": "python",
   "name": "python3"
  },
  "language_info": {
   "codemirror_mode": {
    "name": "ipython",
    "version": 3
   },
   "file_extension": ".py",
   "mimetype": "text/x-python",
   "name": "python",
   "nbconvert_exporter": "python",
   "pygments_lexer": "ipython3",
   "version": "3.9.12"
  },
  "vscode": {
   "interpreter": {
    "hash": "658e5086fb77f57f7aa70d8154f4312fcf4c61771cb2ff83c452810e16620d28"
   }
  }
 },
 "nbformat": 4,
 "nbformat_minor": 4
}
