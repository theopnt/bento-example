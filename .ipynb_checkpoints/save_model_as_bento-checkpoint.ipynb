{
 "cells": [
  {
   "cell_type": "markdown",
   "metadata": {
    "tags": []
   },
   "source": [
    "# Initiate\n",
    "We first initiate the environment. **Use python 3.9 kenrel if running from jupyterlab**"
   ]
  },
  {
   "cell_type": "code",
   "execution_count": 1,
   "metadata": {},
   "outputs": [
    {
     "data": {
      "text/plain": [
       "True"
      ]
     },
     "execution_count": 1,
     "metadata": {},
     "output_type": "execute_result"
    }
   ],
   "source": [
    "import os\n",
    "import bentoml\n",
    "import mlflow\n",
    "import darts \n",
    "#print(numpy.__version__)\n",
    "\n",
    "from dotenv import load_dotenv\n",
    "load_dotenv()\n"
   ]
  },
  {
   "cell_type": "markdown",
   "metadata": {},
   "source": [
    "# Load model as bentos\n",
    "\n",
    "Then we load the model from minio as a bento. In the link to the model we always use the pyfunc model folder. The bento name needs to be changed if a different model needs to be loaded, otherwise the new model will be considered a newer version of the old one."
   ]
  },
  {
   "cell_type": "code",
   "execution_count": 2,
   "metadata": {},
   "outputs": [
    {
     "name": "stderr",
     "output_type": "stream",
     "text": [
      "2024/01/16 16:01:27 WARNING mlflow.pyfunc: Detected one or more mismatches between the model's dependencies and the current Python environment:\n",
      " - darts (current: 0.23.1, required: darts==0.22.0)\n",
      " - torch (current: 1.11.0, required: torch==1.11.0+cu102)\n",
      " - mlflow (current: 1.27.0, required: mlflow==1.25.1)\n",
      "To fix the mismatches, call `mlflow.pyfunc.get_model_dependencies(model_uri)` to fetch the model's environment and install dependencies using the resulting environment file.\n"
     ]
    },
    {
     "name": "stdout",
     "output_type": "stream",
     "text": [
      "Local path inside _load_pyfunc: /new_vol_300/marija/conda/multiusers/iccs/bentoml/models/uc7_companies_no_covs/ddzciyfuqcafv6qw/mlflow_model/data/2850a79365524979819f69e9bbd55514\n",
      "Local path altered for loading: /new_vol_300/marija/conda/multiusers/iccs/bentoml/models/uc7_companies_no_covs/ddzciyfuqcafv6qw/mlflow_model/data/2850a79365524979819f69e9bbd55514\n",
      "/new_vol_300/marija/conda/multiusers/iccs/bentoml/models/uc7_companies_no_covs/ddzciyfuqcafv6qw/mlflow_model/data/2850a79365524979819f69e9bbd55514\n",
      "/new_vol_300/marija/conda/multiusers/iccs/bentoml/models/uc7_companies_no_covs/ddzciyfuqcafv6qw/mlflow_model/data/2850a79365524979819f69e9bbd55514\n",
      "\n",
      "Loading local PKL model...\n"
     ]
    },
    {
     "name": "stderr",
     "output_type": "stream",
     "text": [
      "2024-01-16 16:01:44.647137: I tensorflow/core/platform/cpu_feature_guard.cc:193] This TensorFlow binary is optimized with oneAPI Deep Neural Network Library (oneDNN) to use the following CPU instructions in performance-critical operations:  AVX2 AVX512F AVX512_VNNI FMA\n",
      "To enable them in other operations, rebuild TensorFlow with the appropriate compiler flags.\n",
      "2024-01-16 16:01:47.104628: I tensorflow/core/util/util.cc:169] oneDNN custom operations are on. You may see slightly different numerical results due to floating-point round-off errors from different computation orders. To turn them off, set the environment variable `TF_ENABLE_ONEDNN_OPTS=0`.\n",
      "2024-01-16 16:01:48.002182: W tensorflow/stream_executor/platform/default/dso_loader.cc:64] Could not load dynamic library 'libcudart.so.11.0'; dlerror: libcudart.so.11.0: cannot open shared object file: No such file or directory\n",
      "2024-01-16 16:01:48.002211: I tensorflow/stream_executor/cuda/cudart_stub.cc:29] Ignore above cudart dlerror if you do not have a GPU set up on your machine.\n",
      "2024-01-16 16:01:48.381975: E tensorflow/stream_executor/cuda/cuda_blas.cc:2981] Unable to register cuBLAS factory: Attempting to register factory for plugin cuBLAS when one has already been registered\n",
      "2024-01-16 16:01:53.265777: W tensorflow/stream_executor/platform/default/dso_loader.cc:64] Could not load dynamic library 'libnvinfer.so.7'; dlerror: libnvinfer.so.7: cannot open shared object file: No such file or directory\n",
      "2024-01-16 16:01:53.265976: W tensorflow/stream_executor/platform/default/dso_loader.cc:64] Could not load dynamic library 'libnvinfer_plugin.so.7'; dlerror: libnvinfer_plugin.so.7: cannot open shared object file: No such file or directory\n",
      "2024-01-16 16:01:53.265987: W tensorflow/compiler/tf2tensorrt/utils/py_utils.cc:38] TF-TRT Warning: Cannot dlopen some TensorRT libraries. If you would like to use Nvidia GPU with TensorRT, please make sure the missing libraries mentioned above are installed properly.\n",
      "/opt/anaconda3/lib/python3.9/site-packages/pkg_resources/__init__.py:123: PkgResourcesDeprecationWarning: rts is an invalid version and will not be supported in a future release\n",
      "  warnings.warn(\n",
      "/opt/anaconda3/lib/python3.9/site-packages/sklearn/base.py:318: UserWarning: Trying to unpickle estimator MinMaxScaler from version 1.0.2 when using version 1.2.2. This might lead to breaking code or invalid results. Use at your own risk. For more info please refer to:\n",
      "https://scikit-learn.org/stable/model_persistence.html#security-maintainability-limitations\n",
      "  warnings.warn(\n"
     ]
    }
   ],
   "source": [
    "model = bentoml.mlflow.import_model(\n",
    "    \"uc7_companies_no_covs\", #bento model name \n",
    "    \"s3://mlflow-bucket/40/2850a79365524979819f69e9bbd55514/artifacts/pyfunc_model\", #minio uri\n",
    "    signatures={'predict': {'batchable': True}})\n",
    "\n",
    "bento_model = bentoml.mlflow.get(model.tag)\n",
    "pyfunc_model: mlflow.pyfunc.PyFuncModel = bentoml.mlflow.load_model(\n",
    "    model.tag)"
   ]
  },
  {
   "cell_type": "markdown",
   "metadata": {},
   "source": [
    "Then we make sure that the model has been saved as a bento, and we get the tag of its latest version"
   ]
  },
  {
   "cell_type": "code",
   "execution_count": 4,
   "metadata": {},
   "outputs": [
    {
     "name": "stdout",
     "output_type": "stream",
     "text": [
      "Model(tag=\"uc7_companies_no_covs:ddzciyfuqcafv6qw\")\n"
     ]
    }
   ],
   "source": [
    "print(bentoml.models.list(\"uc7_companies_no_covs\")[0])"
   ]
  },
  {
   "cell_type": "markdown",
   "metadata": {},
   "source": [
    "# Predict\n",
    "\n",
    "To make sure that this model is providing predictions normaly, we test it using the series that is uploaded to minio"
   ]
  },
  {
   "cell_type": "markdown",
   "metadata": {},
   "source": [
    "## LGBM"
   ]
  },
  {
   "cell_type": "code",
   "execution_count": 7,
   "metadata": {},
   "outputs": [],
   "source": [
    "%%capture\n",
    "# input example\n",
    "input_example = {\n",
    "            \"n\": \"24\",\n",
    "            \"series_uri\": \"s3://mlflow-bucket/40/b92fb3c675814fdebf08c23c7de9c001/artifacts/features/series.csv\",\n",
    "            \"roll_size\": \"1\",\n",
    "            \"future_covariates_uri\": \"None\",\n",
    "            \"past_covariates_uri\": \"None\",\n",
    "            \"batch_size\": \"1\",\n",
    "            \"multiple\": \"True\",\n",
    "            \"weather_covariates\":[],\n",
    "            \"resolution\": \"60\",\n",
    "            \"ts_id_pred\": \"BBB6030\",\n",
    "}\n",
    "predictions = pyfunc_model.predict(input_example)"
   ]
  },
  {
   "cell_type": "code",
   "execution_count": 8,
   "metadata": {},
   "outputs": [
    {
     "data": {
      "text/html": [
       "<div>\n",
       "<style scoped>\n",
       "    .dataframe tbody tr th:only-of-type {\n",
       "        vertical-align: middle;\n",
       "    }\n",
       "\n",
       "    .dataframe tbody tr th {\n",
       "        vertical-align: top;\n",
       "    }\n",
       "\n",
       "    .dataframe thead th {\n",
       "        text-align: right;\n",
       "    }\n",
       "</style>\n",
       "<table border=\"1\" class=\"dataframe\">\n",
       "  <thead>\n",
       "    <tr style=\"text-align: right;\">\n",
       "      <th>component</th>\n",
       "      <th>Value</th>\n",
       "    </tr>\n",
       "    <tr>\n",
       "      <th>Datetime</th>\n",
       "      <th></th>\n",
       "    </tr>\n",
       "  </thead>\n",
       "  <tbody>\n",
       "    <tr>\n",
       "      <th>2023-12-28 00:00:00</th>\n",
       "      <td>3.931897</td>\n",
       "    </tr>\n",
       "    <tr>\n",
       "      <th>2023-12-28 01:00:00</th>\n",
       "      <td>3.949497</td>\n",
       "    </tr>\n",
       "    <tr>\n",
       "      <th>2023-12-28 02:00:00</th>\n",
       "      <td>3.980993</td>\n",
       "    </tr>\n",
       "    <tr>\n",
       "      <th>2023-12-28 03:00:00</th>\n",
       "      <td>4.072373</td>\n",
       "    </tr>\n",
       "    <tr>\n",
       "      <th>2023-12-28 04:00:00</th>\n",
       "      <td>4.106251</td>\n",
       "    </tr>\n",
       "    <tr>\n",
       "      <th>2023-12-28 05:00:00</th>\n",
       "      <td>4.013561</td>\n",
       "    </tr>\n",
       "    <tr>\n",
       "      <th>2023-12-28 06:00:00</th>\n",
       "      <td>3.740512</td>\n",
       "    </tr>\n",
       "    <tr>\n",
       "      <th>2023-12-28 07:00:00</th>\n",
       "      <td>3.039017</td>\n",
       "    </tr>\n",
       "    <tr>\n",
       "      <th>2023-12-28 08:00:00</th>\n",
       "      <td>1.821295</td>\n",
       "    </tr>\n",
       "    <tr>\n",
       "      <th>2023-12-28 09:00:00</th>\n",
       "      <td>2.239280</td>\n",
       "    </tr>\n",
       "    <tr>\n",
       "      <th>2023-12-28 10:00:00</th>\n",
       "      <td>11.416192</td>\n",
       "    </tr>\n",
       "    <tr>\n",
       "      <th>2023-12-28 11:00:00</th>\n",
       "      <td>9.824508</td>\n",
       "    </tr>\n",
       "    <tr>\n",
       "      <th>2023-12-28 12:00:00</th>\n",
       "      <td>5.306633</td>\n",
       "    </tr>\n",
       "    <tr>\n",
       "      <th>2023-12-28 13:00:00</th>\n",
       "      <td>3.551165</td>\n",
       "    </tr>\n",
       "    <tr>\n",
       "      <th>2023-12-28 14:00:00</th>\n",
       "      <td>3.061244</td>\n",
       "    </tr>\n",
       "    <tr>\n",
       "      <th>2023-12-28 15:00:00</th>\n",
       "      <td>2.761496</td>\n",
       "    </tr>\n",
       "    <tr>\n",
       "      <th>2023-12-28 16:00:00</th>\n",
       "      <td>3.836911</td>\n",
       "    </tr>\n",
       "    <tr>\n",
       "      <th>2023-12-28 17:00:00</th>\n",
       "      <td>4.542396</td>\n",
       "    </tr>\n",
       "    <tr>\n",
       "      <th>2023-12-28 18:00:00</th>\n",
       "      <td>5.030700</td>\n",
       "    </tr>\n",
       "    <tr>\n",
       "      <th>2023-12-28 19:00:00</th>\n",
       "      <td>5.061132</td>\n",
       "    </tr>\n",
       "    <tr>\n",
       "      <th>2023-12-28 20:00:00</th>\n",
       "      <td>5.014283</td>\n",
       "    </tr>\n",
       "    <tr>\n",
       "      <th>2023-12-28 21:00:00</th>\n",
       "      <td>4.772687</td>\n",
       "    </tr>\n",
       "    <tr>\n",
       "      <th>2023-12-28 22:00:00</th>\n",
       "      <td>4.645069</td>\n",
       "    </tr>\n",
       "    <tr>\n",
       "      <th>2023-12-28 23:00:00</th>\n",
       "      <td>4.695329</td>\n",
       "    </tr>\n",
       "  </tbody>\n",
       "</table>\n",
       "</div>"
      ],
      "text/plain": [
       "component                Value\n",
       "Datetime                      \n",
       "2023-12-28 00:00:00   3.931897\n",
       "2023-12-28 01:00:00   3.949497\n",
       "2023-12-28 02:00:00   3.980993\n",
       "2023-12-28 03:00:00   4.072373\n",
       "2023-12-28 04:00:00   4.106251\n",
       "2023-12-28 05:00:00   4.013561\n",
       "2023-12-28 06:00:00   3.740512\n",
       "2023-12-28 07:00:00   3.039017\n",
       "2023-12-28 08:00:00   1.821295\n",
       "2023-12-28 09:00:00   2.239280\n",
       "2023-12-28 10:00:00  11.416192\n",
       "2023-12-28 11:00:00   9.824508\n",
       "2023-12-28 12:00:00   5.306633\n",
       "2023-12-28 13:00:00   3.551165\n",
       "2023-12-28 14:00:00   3.061244\n",
       "2023-12-28 15:00:00   2.761496\n",
       "2023-12-28 16:00:00   3.836911\n",
       "2023-12-28 17:00:00   4.542396\n",
       "2023-12-28 18:00:00   5.030700\n",
       "2023-12-28 19:00:00   5.061132\n",
       "2023-12-28 20:00:00   5.014283\n",
       "2023-12-28 21:00:00   4.772687\n",
       "2023-12-28 22:00:00   4.645069\n",
       "2023-12-28 23:00:00   4.695329"
      ]
     },
     "execution_count": 8,
     "metadata": {},
     "output_type": "execute_result"
    }
   ],
   "source": [
    "predictions"
   ]
  }
 ],
 "metadata": {
  "kernelspec": {
   "display_name": "Python 3.9",
   "language": "python",
   "name": "py3.9"
  },
  "language_info": {
   "codemirror_mode": {
    "name": "ipython",
    "version": 3
   },
   "file_extension": ".py",
   "mimetype": "text/x-python",
   "name": "python",
   "nbconvert_exporter": "python",
   "pygments_lexer": "ipython3",
   "version": "3.9.16"
  },
  "vscode": {
   "interpreter": {
    "hash": "658e5086fb77f57f7aa70d8154f4312fcf4c61771cb2ff83c452810e16620d28"
   }
  }
 },
 "nbformat": 4,
 "nbformat_minor": 4
}
