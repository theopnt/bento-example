{
 "cells": [
  {
   "cell_type": "markdown",
   "id": "81082812-24ad-46b3-9c75-1f9bb4233915",
   "metadata": {},
   "source": [
    "We first read the sample file and convert it to json formatWe first read the sample file and convert it to json format"
   ]
  },
  {
   "cell_type": "code",
   "execution_count": 14,
   "id": "7d23ff33",
   "metadata": {},
   "outputs": [],
   "source": [
    "import pandas as pd\n",
    "ts = pd.read_csv(\"sample_w6_pos_ac.csv\",\n",
    "                     sep=None,\n",
    "                     header=0,\n",
    "                     index_col=0,\n",
    "                     parse_dates=True,\n",
    "                     engine='python')\n",
    "ts = ts[ts.index >= pd.Timestamp(\"2023-01-01 00:00:00\")]\n",
    "series = ts.to_json()"
   ]
  },
  {
   "cell_type": "markdown",
   "id": "d1aca547-5d0b-4d3b-81cc-7464a84c2f68",
   "metadata": {},
   "source": [
    "Then we make the request using the time horizon (n), series in json format (series) and meter_id (meter_id) we want"
   ]
  },
  {
   "cell_type": "code",
   "execution_count": 15,
   "id": "f7aabb94-eadd-4812-9d31-3e24f8114005",
   "metadata": {},
   "outputs": [],
   "source": [
    "import requests\n",
    "\n",
    "from requests_toolbelt.multipart.encoder import MultipartEncoder\n",
    "input_example = MultipartEncoder(\n",
    "    fields={\"n\": \"24\",\n",
    "            \"series\": series,\n",
    "            \"meter_id\": \"BBB6030\",\n",
    "           }\n",
    ")\n",
    "\n",
    "result = requests.post(\n",
    "    \"http://0.0.0.0:3060/predict\", data=input_example, headers={\"Content-Type\": input_example.content_type}\n",
    ").text"
   ]
  },
  {
   "cell_type": "code",
   "execution_count": 16,
   "id": "9ffebecd-9a00-4b2f-9e33-6c3e2c40ba97",
   "metadata": {},
   "outputs": [
    {
     "data": {
      "text/plain": [
       "'{\"Value\":{\"1675904400000\":0.3638424538,\"1675905300000\":-0.1190072106,\"1675906200000\":-0.1041763754,\"1675907100000\":0.6145871932,\"1675908000000\":0.7578817967,\"1675908900000\":0.8730756192,\"1675909800000\":1.0949447101,\"1675910700000\":1.3033097344,\"1675911600000\":1.844801875,\"1675912500000\":2.0764250672,\"1675913400000\":1.6644903634,\"1675914300000\":1.9238164433,\"1675915200000\":2.1408514096,\"1675916100000\":1.6613821516,\"1675917000000\":1.888701548,\"1675917900000\":1.6448235299,\"1675918800000\":1.4731999299,\"1675919700000\":1.657272331,\"1675920600000\":1.4225735764,\"1675921500000\":0.8991765186,\"1675922400000\":0.7016099065,\"1675923300000\":0.6456879482,\"1675924200000\":0.6583749983,\"1675925100000\":0.601294868}}'"
      ]
     },
     "execution_count": 16,
     "metadata": {},
     "output_type": "execute_result"
    }
   ],
   "source": [
    "result"
   ]
  },
  {
   "cell_type": "markdown",
   "id": "5b169456-1c30-4478-bd7c-e82a17ca75a6",
   "metadata": {},
   "source": [
    "Finaly we convert the result to pandas format "
   ]
  },
  {
   "cell_type": "code",
   "execution_count": 17,
   "id": "b14652c2-8214-4a9a-b8a1-1d61cc3883f2",
   "metadata": {},
   "outputs": [],
   "source": [
    "df = pd.read_json(result)"
   ]
  },
  {
   "cell_type": "code",
   "execution_count": 18,
   "id": "56699cca",
   "metadata": {},
   "outputs": [
    {
     "data": {
      "text/html": [
       "<div>\n",
       "<style scoped>\n",
       "    .dataframe tbody tr th:only-of-type {\n",
       "        vertical-align: middle;\n",
       "    }\n",
       "\n",
       "    .dataframe tbody tr th {\n",
       "        vertical-align: top;\n",
       "    }\n",
       "\n",
       "    .dataframe thead th {\n",
       "        text-align: right;\n",
       "    }\n",
       "</style>\n",
       "<table border=\"1\" class=\"dataframe\">\n",
       "  <thead>\n",
       "    <tr style=\"text-align: right;\">\n",
       "      <th></th>\n",
       "      <th>Value</th>\n",
       "    </tr>\n",
       "  </thead>\n",
       "  <tbody>\n",
       "    <tr>\n",
       "      <th>2023-02-09 01:00:00</th>\n",
       "      <td>0.363842</td>\n",
       "    </tr>\n",
       "    <tr>\n",
       "      <th>2023-02-09 01:15:00</th>\n",
       "      <td>-0.119007</td>\n",
       "    </tr>\n",
       "    <tr>\n",
       "      <th>2023-02-09 01:30:00</th>\n",
       "      <td>-0.104176</td>\n",
       "    </tr>\n",
       "    <tr>\n",
       "      <th>2023-02-09 01:45:00</th>\n",
       "      <td>0.614587</td>\n",
       "    </tr>\n",
       "    <tr>\n",
       "      <th>2023-02-09 02:00:00</th>\n",
       "      <td>0.757882</td>\n",
       "    </tr>\n",
       "    <tr>\n",
       "      <th>2023-02-09 02:15:00</th>\n",
       "      <td>0.873076</td>\n",
       "    </tr>\n",
       "    <tr>\n",
       "      <th>2023-02-09 02:30:00</th>\n",
       "      <td>1.094945</td>\n",
       "    </tr>\n",
       "    <tr>\n",
       "      <th>2023-02-09 02:45:00</th>\n",
       "      <td>1.303310</td>\n",
       "    </tr>\n",
       "    <tr>\n",
       "      <th>2023-02-09 03:00:00</th>\n",
       "      <td>1.844802</td>\n",
       "    </tr>\n",
       "    <tr>\n",
       "      <th>2023-02-09 03:15:00</th>\n",
       "      <td>2.076425</td>\n",
       "    </tr>\n",
       "    <tr>\n",
       "      <th>2023-02-09 03:30:00</th>\n",
       "      <td>1.664490</td>\n",
       "    </tr>\n",
       "    <tr>\n",
       "      <th>2023-02-09 03:45:00</th>\n",
       "      <td>1.923816</td>\n",
       "    </tr>\n",
       "    <tr>\n",
       "      <th>2023-02-09 04:00:00</th>\n",
       "      <td>2.140851</td>\n",
       "    </tr>\n",
       "    <tr>\n",
       "      <th>2023-02-09 04:15:00</th>\n",
       "      <td>1.661382</td>\n",
       "    </tr>\n",
       "    <tr>\n",
       "      <th>2023-02-09 04:30:00</th>\n",
       "      <td>1.888702</td>\n",
       "    </tr>\n",
       "    <tr>\n",
       "      <th>2023-02-09 04:45:00</th>\n",
       "      <td>1.644824</td>\n",
       "    </tr>\n",
       "    <tr>\n",
       "      <th>2023-02-09 05:00:00</th>\n",
       "      <td>1.473200</td>\n",
       "    </tr>\n",
       "    <tr>\n",
       "      <th>2023-02-09 05:15:00</th>\n",
       "      <td>1.657272</td>\n",
       "    </tr>\n",
       "    <tr>\n",
       "      <th>2023-02-09 05:30:00</th>\n",
       "      <td>1.422574</td>\n",
       "    </tr>\n",
       "    <tr>\n",
       "      <th>2023-02-09 05:45:00</th>\n",
       "      <td>0.899177</td>\n",
       "    </tr>\n",
       "    <tr>\n",
       "      <th>2023-02-09 06:00:00</th>\n",
       "      <td>0.701610</td>\n",
       "    </tr>\n",
       "    <tr>\n",
       "      <th>2023-02-09 06:15:00</th>\n",
       "      <td>0.645688</td>\n",
       "    </tr>\n",
       "    <tr>\n",
       "      <th>2023-02-09 06:30:00</th>\n",
       "      <td>0.658375</td>\n",
       "    </tr>\n",
       "    <tr>\n",
       "      <th>2023-02-09 06:45:00</th>\n",
       "      <td>0.601295</td>\n",
       "    </tr>\n",
       "  </tbody>\n",
       "</table>\n",
       "</div>"
      ],
      "text/plain": [
       "                        Value\n",
       "2023-02-09 01:00:00  0.363842\n",
       "2023-02-09 01:15:00 -0.119007\n",
       "2023-02-09 01:30:00 -0.104176\n",
       "2023-02-09 01:45:00  0.614587\n",
       "2023-02-09 02:00:00  0.757882\n",
       "2023-02-09 02:15:00  0.873076\n",
       "2023-02-09 02:30:00  1.094945\n",
       "2023-02-09 02:45:00  1.303310\n",
       "2023-02-09 03:00:00  1.844802\n",
       "2023-02-09 03:15:00  2.076425\n",
       "2023-02-09 03:30:00  1.664490\n",
       "2023-02-09 03:45:00  1.923816\n",
       "2023-02-09 04:00:00  2.140851\n",
       "2023-02-09 04:15:00  1.661382\n",
       "2023-02-09 04:30:00  1.888702\n",
       "2023-02-09 04:45:00  1.644824\n",
       "2023-02-09 05:00:00  1.473200\n",
       "2023-02-09 05:15:00  1.657272\n",
       "2023-02-09 05:30:00  1.422574\n",
       "2023-02-09 05:45:00  0.899177\n",
       "2023-02-09 06:00:00  0.701610\n",
       "2023-02-09 06:15:00  0.645688\n",
       "2023-02-09 06:30:00  0.658375\n",
       "2023-02-09 06:45:00  0.601295"
      ]
     },
     "execution_count": 18,
     "metadata": {},
     "output_type": "execute_result"
    }
   ],
   "source": [
    "df"
   ]
  },
  {
   "cell_type": "code",
   "execution_count": null,
   "id": "4cf9e811-ebfd-4d65-ad31-bb9d27aa2c61",
   "metadata": {},
   "outputs": [],
   "source": []
  }
 ],
 "metadata": {
  "kernelspec": {
   "display_name": "Python 3 (ipykernel)",
   "language": "python",
   "name": "python3"
  },
  "language_info": {
   "codemirror_mode": {
    "name": "ipython",
    "version": 3
   },
   "file_extension": ".py",
   "mimetype": "text/x-python",
   "name": "python",
   "nbconvert_exporter": "python",
   "pygments_lexer": "ipython3",
   "version": "3.9.16"
  }
 },
 "nbformat": 4,
 "nbformat_minor": 5
}
